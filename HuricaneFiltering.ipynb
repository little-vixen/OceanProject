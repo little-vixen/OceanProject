{
 "cells": [
  {
   "cell_type": "code",
   "execution_count": 1,
   "metadata": {},
   "outputs": [],
   "source": [
    "import pandas as pd\n",
    "import numpy as np\n",
    "from datetime import timezone"
   ]
  },
  {
   "cell_type": "markdown",
   "metadata": {
    "heading_collapsed": true
   },
   "source": [
    "# First I will find all the storms of interest to my bouy data.  \n",
    "lat         long\n",
    "\n",
    "34 08.508\t77 43.122 - ilm2\n",
    "\n",
    "33 50.238\t78 28.608 - sunset\t\n"
   ]
  },
  {
   "cell_type": "code",
   "execution_count": 2,
   "metadata": {
    "hidden": true,
    "scrolled": true
   },
   "outputs": [
    {
     "name": "stderr",
     "output_type": "stream",
     "text": [
      "C:\\Users\\thatr\\Anaconda3\\lib\\site-packages\\IPython\\core\\interactiveshell.py:3020: DtypeWarning: Columns (1,2,8,9,10,11,13,14) have mixed types. Specify dtype option on import or set low_memory=False.\n",
      "  interactivity=interactivity, compiler=compiler, result=result)\n"
     ]
    }
   ],
   "source": [
    "data = pd.read_csv('data/Allstorms.ibtracs_wmo.v03r10.csv', header=1)"
   ]
  },
  {
   "cell_type": "code",
   "execution_count": 3,
   "metadata": {
    "hidden": true
   },
   "outputs": [
    {
     "data": {
      "text/html": [
       "<div>\n",
       "<style scoped>\n",
       "    .dataframe tbody tr th:only-of-type {\n",
       "        vertical-align: middle;\n",
       "    }\n",
       "\n",
       "    .dataframe tbody tr th {\n",
       "        vertical-align: top;\n",
       "    }\n",
       "\n",
       "    .dataframe thead th {\n",
       "        text-align: right;\n",
       "    }\n",
       "</style>\n",
       "<table border=\"1\" class=\"dataframe\">\n",
       "  <thead>\n",
       "    <tr style=\"text-align: right;\">\n",
       "      <th></th>\n",
       "      <th>Serial_Num</th>\n",
       "      <th>Season</th>\n",
       "      <th>Num</th>\n",
       "      <th>Basin</th>\n",
       "      <th>Sub_basin</th>\n",
       "      <th>Name</th>\n",
       "      <th>ISO_time</th>\n",
       "      <th>Nature</th>\n",
       "      <th>Latitude</th>\n",
       "      <th>Longitude</th>\n",
       "      <th>Wind(WMO)</th>\n",
       "      <th>Pres(WMO)</th>\n",
       "      <th>Center</th>\n",
       "      <th>Wind(WMO) Percentile</th>\n",
       "      <th>Pres(WMO) Percentile</th>\n",
       "      <th>Track_type</th>\n",
       "    </tr>\n",
       "  </thead>\n",
       "  <tbody>\n",
       "    <tr>\n",
       "      <th>0</th>\n",
       "      <td>NaN</td>\n",
       "      <td>Year</td>\n",
       "      <td>#</td>\n",
       "      <td>BB</td>\n",
       "      <td>BB</td>\n",
       "      <td>NaN</td>\n",
       "      <td>YYYY-MM-DD HH:MM:SS</td>\n",
       "      <td>NaN</td>\n",
       "      <td>deg_north</td>\n",
       "      <td>deg_east</td>\n",
       "      <td>kt</td>\n",
       "      <td>mb</td>\n",
       "      <td>NaN</td>\n",
       "      <td>%</td>\n",
       "      <td>%</td>\n",
       "      <td>NaN</td>\n",
       "    </tr>\n",
       "    <tr>\n",
       "      <th>1</th>\n",
       "      <td>1848011S09080</td>\n",
       "      <td>1848</td>\n",
       "      <td>02</td>\n",
       "      <td>SI</td>\n",
       "      <td>MM</td>\n",
       "      <td>XXXX848003</td>\n",
       "      <td>1848-01-11 06:00:00</td>\n",
       "      <td>NR</td>\n",
       "      <td>-8.60</td>\n",
       "      <td>79.80</td>\n",
       "      <td>0.0</td>\n",
       "      <td>0.0</td>\n",
       "      <td>reunion</td>\n",
       "      <td>-100.000</td>\n",
       "      <td>-100.000</td>\n",
       "      <td>main</td>\n",
       "    </tr>\n",
       "    <tr>\n",
       "      <th>2</th>\n",
       "      <td>1848011S09080</td>\n",
       "      <td>1848</td>\n",
       "      <td>02</td>\n",
       "      <td>SI</td>\n",
       "      <td>MM</td>\n",
       "      <td>XXXX848003</td>\n",
       "      <td>1848-01-12 06:00:00</td>\n",
       "      <td>NR</td>\n",
       "      <td>-9.00</td>\n",
       "      <td>78.90</td>\n",
       "      <td>0.0</td>\n",
       "      <td>0.0</td>\n",
       "      <td>reunion</td>\n",
       "      <td>-100.000</td>\n",
       "      <td>-100.000</td>\n",
       "      <td>main</td>\n",
       "    </tr>\n",
       "    <tr>\n",
       "      <th>3</th>\n",
       "      <td>1848011S09080</td>\n",
       "      <td>1848</td>\n",
       "      <td>02</td>\n",
       "      <td>SI</td>\n",
       "      <td>MM</td>\n",
       "      <td>XXXX848003</td>\n",
       "      <td>1848-01-13 06:00:00</td>\n",
       "      <td>NR</td>\n",
       "      <td>-10.40</td>\n",
       "      <td>73.20</td>\n",
       "      <td>0.0</td>\n",
       "      <td>0.0</td>\n",
       "      <td>reunion</td>\n",
       "      <td>-100.000</td>\n",
       "      <td>-100.000</td>\n",
       "      <td>main</td>\n",
       "    </tr>\n",
       "    <tr>\n",
       "      <th>4</th>\n",
       "      <td>1848011S09080</td>\n",
       "      <td>1848</td>\n",
       "      <td>02</td>\n",
       "      <td>SI</td>\n",
       "      <td>MM</td>\n",
       "      <td>XXXX848003</td>\n",
       "      <td>1848-01-14 06:00:00</td>\n",
       "      <td>NR</td>\n",
       "      <td>-12.80</td>\n",
       "      <td>69.90</td>\n",
       "      <td>0.0</td>\n",
       "      <td>0.0</td>\n",
       "      <td>reunion</td>\n",
       "      <td>-100.000</td>\n",
       "      <td>-100.000</td>\n",
       "      <td>main</td>\n",
       "    </tr>\n",
       "    <tr>\n",
       "      <th>5</th>\n",
       "      <td>1848011S09080</td>\n",
       "      <td>1848</td>\n",
       "      <td>02</td>\n",
       "      <td>SI</td>\n",
       "      <td>MM</td>\n",
       "      <td>XXXX848003</td>\n",
       "      <td>1848-01-15 06:00:00</td>\n",
       "      <td>NR</td>\n",
       "      <td>-13.90</td>\n",
       "      <td>68.90</td>\n",
       "      <td>0.0</td>\n",
       "      <td>0.0</td>\n",
       "      <td>reunion</td>\n",
       "      <td>-100.000</td>\n",
       "      <td>-100.000</td>\n",
       "      <td>main</td>\n",
       "    </tr>\n",
       "    <tr>\n",
       "      <th>6</th>\n",
       "      <td>1848011S09080</td>\n",
       "      <td>1848</td>\n",
       "      <td>02</td>\n",
       "      <td>SI</td>\n",
       "      <td>MM</td>\n",
       "      <td>XXXX848003</td>\n",
       "      <td>1848-01-16 06:00:00</td>\n",
       "      <td>NR</td>\n",
       "      <td>-15.30</td>\n",
       "      <td>67.70</td>\n",
       "      <td>0.0</td>\n",
       "      <td>0.0</td>\n",
       "      <td>reunion</td>\n",
       "      <td>-100.000</td>\n",
       "      <td>-100.000</td>\n",
       "      <td>main</td>\n",
       "    </tr>\n",
       "    <tr>\n",
       "      <th>7</th>\n",
       "      <td>1848011S09080</td>\n",
       "      <td>1848</td>\n",
       "      <td>02</td>\n",
       "      <td>SI</td>\n",
       "      <td>MM</td>\n",
       "      <td>XXXX848003</td>\n",
       "      <td>1848-01-17 06:00:00</td>\n",
       "      <td>NR</td>\n",
       "      <td>-16.50</td>\n",
       "      <td>67.00</td>\n",
       "      <td>0.0</td>\n",
       "      <td>0.0</td>\n",
       "      <td>reunion</td>\n",
       "      <td>-100.000</td>\n",
       "      <td>-100.000</td>\n",
       "      <td>main</td>\n",
       "    </tr>\n",
       "    <tr>\n",
       "      <th>8</th>\n",
       "      <td>1848011S09080</td>\n",
       "      <td>1848</td>\n",
       "      <td>02</td>\n",
       "      <td>SI</td>\n",
       "      <td>MM</td>\n",
       "      <td>XXXX848003</td>\n",
       "      <td>1848-01-18 06:00:00</td>\n",
       "      <td>NR</td>\n",
       "      <td>-18.00</td>\n",
       "      <td>67.40</td>\n",
       "      <td>0.0</td>\n",
       "      <td>0.0</td>\n",
       "      <td>reunion</td>\n",
       "      <td>-100.000</td>\n",
       "      <td>-100.000</td>\n",
       "      <td>main</td>\n",
       "    </tr>\n",
       "    <tr>\n",
       "      <th>9</th>\n",
       "      <td>1848011S09080</td>\n",
       "      <td>1848</td>\n",
       "      <td>02</td>\n",
       "      <td>SI</td>\n",
       "      <td>MM</td>\n",
       "      <td>XXXX848003</td>\n",
       "      <td>1848-01-19 06:00:00</td>\n",
       "      <td>NR</td>\n",
       "      <td>-20.60</td>\n",
       "      <td>69.80</td>\n",
       "      <td>0.0</td>\n",
       "      <td>0.0</td>\n",
       "      <td>reunion</td>\n",
       "      <td>-100.000</td>\n",
       "      <td>-100.000</td>\n",
       "      <td>main</td>\n",
       "    </tr>\n",
       "    <tr>\n",
       "      <th>10</th>\n",
       "      <td>1848011S09080</td>\n",
       "      <td>1848</td>\n",
       "      <td>02</td>\n",
       "      <td>SI</td>\n",
       "      <td>MM</td>\n",
       "      <td>XXXX848003</td>\n",
       "      <td>1848-01-20 06:00:00</td>\n",
       "      <td>NR</td>\n",
       "      <td>-22.80</td>\n",
       "      <td>72.00</td>\n",
       "      <td>0.0</td>\n",
       "      <td>0.0</td>\n",
       "      <td>reunion</td>\n",
       "      <td>-100.000</td>\n",
       "      <td>-100.000</td>\n",
       "      <td>main</td>\n",
       "    </tr>\n",
       "    <tr>\n",
       "      <th>11</th>\n",
       "      <td>1848011S09080</td>\n",
       "      <td>1848</td>\n",
       "      <td>02</td>\n",
       "      <td>SI</td>\n",
       "      <td>MM</td>\n",
       "      <td>XXXX848003</td>\n",
       "      <td>1848-01-21 06:00:00</td>\n",
       "      <td>NR</td>\n",
       "      <td>-27.20</td>\n",
       "      <td>75.80</td>\n",
       "      <td>0.0</td>\n",
       "      <td>0.0</td>\n",
       "      <td>reunion</td>\n",
       "      <td>-100.000</td>\n",
       "      <td>-100.000</td>\n",
       "      <td>main</td>\n",
       "    </tr>\n",
       "    <tr>\n",
       "      <th>12</th>\n",
       "      <td>1848011S15057</td>\n",
       "      <td>1848</td>\n",
       "      <td>03</td>\n",
       "      <td>SI</td>\n",
       "      <td>MM</td>\n",
       "      <td>XXXX848002</td>\n",
       "      <td>1848-01-11 06:00:00</td>\n",
       "      <td>NR</td>\n",
       "      <td>-15.20</td>\n",
       "      <td>57.40</td>\n",
       "      <td>0.0</td>\n",
       "      <td>0.0</td>\n",
       "      <td>reunion</td>\n",
       "      <td>-100.000</td>\n",
       "      <td>-100.000</td>\n",
       "      <td>main</td>\n",
       "    </tr>\n",
       "    <tr>\n",
       "      <th>13</th>\n",
       "      <td>1848011S15057</td>\n",
       "      <td>1848</td>\n",
       "      <td>03</td>\n",
       "      <td>SI</td>\n",
       "      <td>MM</td>\n",
       "      <td>XXXX848002</td>\n",
       "      <td>1848-01-12 06:00:00</td>\n",
       "      <td>NR</td>\n",
       "      <td>-15.80</td>\n",
       "      <td>56.60</td>\n",
       "      <td>0.0</td>\n",
       "      <td>0.0</td>\n",
       "      <td>reunion</td>\n",
       "      <td>-100.000</td>\n",
       "      <td>-100.000</td>\n",
       "      <td>main</td>\n",
       "    </tr>\n",
       "    <tr>\n",
       "      <th>14</th>\n",
       "      <td>1848011S15057</td>\n",
       "      <td>1848</td>\n",
       "      <td>03</td>\n",
       "      <td>SI</td>\n",
       "      <td>MM</td>\n",
       "      <td>XXXX848002</td>\n",
       "      <td>1848-01-13 06:00:00</td>\n",
       "      <td>NR</td>\n",
       "      <td>-20.30</td>\n",
       "      <td>49.90</td>\n",
       "      <td>0.0</td>\n",
       "      <td>0.0</td>\n",
       "      <td>reunion</td>\n",
       "      <td>-100.000</td>\n",
       "      <td>-100.000</td>\n",
       "      <td>main</td>\n",
       "    </tr>\n",
       "    <tr>\n",
       "      <th>15</th>\n",
       "      <td>1848011S15057</td>\n",
       "      <td>1848</td>\n",
       "      <td>03</td>\n",
       "      <td>SI</td>\n",
       "      <td>MM</td>\n",
       "      <td>XXXX848002</td>\n",
       "      <td>1848-01-14 06:00:00</td>\n",
       "      <td>NR</td>\n",
       "      <td>-26.10</td>\n",
       "      <td>46.70</td>\n",
       "      <td>0.0</td>\n",
       "      <td>0.0</td>\n",
       "      <td>reunion</td>\n",
       "      <td>-100.000</td>\n",
       "      <td>-100.000</td>\n",
       "      <td>main</td>\n",
       "    </tr>\n",
       "    <tr>\n",
       "      <th>16</th>\n",
       "      <td>1848011S15057</td>\n",
       "      <td>1848</td>\n",
       "      <td>03</td>\n",
       "      <td>SI</td>\n",
       "      <td>MM</td>\n",
       "      <td>XXXX848002</td>\n",
       "      <td>1848-01-15 06:00:00</td>\n",
       "      <td>NR</td>\n",
       "      <td>-33.20</td>\n",
       "      <td>50.40</td>\n",
       "      <td>0.0</td>\n",
       "      <td>0.0</td>\n",
       "      <td>reunion</td>\n",
       "      <td>-100.000</td>\n",
       "      <td>-100.000</td>\n",
       "      <td>main</td>\n",
       "    </tr>\n",
       "    <tr>\n",
       "      <th>17</th>\n",
       "      <td>1848011S15057</td>\n",
       "      <td>1848</td>\n",
       "      <td>03</td>\n",
       "      <td>SI</td>\n",
       "      <td>MM</td>\n",
       "      <td>XXXX848002</td>\n",
       "      <td>1848-01-16 06:00:00</td>\n",
       "      <td>NR</td>\n",
       "      <td>-34.10</td>\n",
       "      <td>51.10</td>\n",
       "      <td>0.0</td>\n",
       "      <td>0.0</td>\n",
       "      <td>reunion</td>\n",
       "      <td>-100.000</td>\n",
       "      <td>-100.000</td>\n",
       "      <td>main</td>\n",
       "    </tr>\n",
       "    <tr>\n",
       "      <th>18</th>\n",
       "      <td>1848061S12075</td>\n",
       "      <td>1848</td>\n",
       "      <td>05</td>\n",
       "      <td>SI</td>\n",
       "      <td>MM</td>\n",
       "      <td>XXXX848001</td>\n",
       "      <td>1848-03-01 06:00:00</td>\n",
       "      <td>NR</td>\n",
       "      <td>-11.40</td>\n",
       "      <td>75.50</td>\n",
       "      <td>0.0</td>\n",
       "      <td>0.0</td>\n",
       "      <td>reunion</td>\n",
       "      <td>-100.000</td>\n",
       "      <td>-100.000</td>\n",
       "      <td>main</td>\n",
       "    </tr>\n",
       "    <tr>\n",
       "      <th>19</th>\n",
       "      <td>1848061S12075</td>\n",
       "      <td>1848</td>\n",
       "      <td>05</td>\n",
       "      <td>SI</td>\n",
       "      <td>MM</td>\n",
       "      <td>XXXX848001</td>\n",
       "      <td>1848-03-02 06:00:00</td>\n",
       "      <td>NR</td>\n",
       "      <td>-11.70</td>\n",
       "      <td>74.00</td>\n",
       "      <td>0.0</td>\n",
       "      <td>0.0</td>\n",
       "      <td>reunion</td>\n",
       "      <td>-100.000</td>\n",
       "      <td>-100.000</td>\n",
       "      <td>main</td>\n",
       "    </tr>\n",
       "    <tr>\n",
       "      <th>20</th>\n",
       "      <td>1848061S12075</td>\n",
       "      <td>1848</td>\n",
       "      <td>05</td>\n",
       "      <td>SI</td>\n",
       "      <td>MM</td>\n",
       "      <td>XXXX848001</td>\n",
       "      <td>1848-03-03 06:00:00</td>\n",
       "      <td>NR</td>\n",
       "      <td>-14.40</td>\n",
       "      <td>64.60</td>\n",
       "      <td>0.0</td>\n",
       "      <td>0.0</td>\n",
       "      <td>reunion</td>\n",
       "      <td>-100.000</td>\n",
       "      <td>-100.000</td>\n",
       "      <td>main</td>\n",
       "    </tr>\n",
       "    <tr>\n",
       "      <th>21</th>\n",
       "      <td>1848061S12075</td>\n",
       "      <td>1848</td>\n",
       "      <td>05</td>\n",
       "      <td>SI</td>\n",
       "      <td>MM</td>\n",
       "      <td>XXXX848001</td>\n",
       "      <td>1848-03-04 06:00:00</td>\n",
       "      <td>NR</td>\n",
       "      <td>-17.60</td>\n",
       "      <td>57.60</td>\n",
       "      <td>0.0</td>\n",
       "      <td>0.0</td>\n",
       "      <td>reunion</td>\n",
       "      <td>-100.000</td>\n",
       "      <td>-100.000</td>\n",
       "      <td>main</td>\n",
       "    </tr>\n",
       "    <tr>\n",
       "      <th>22</th>\n",
       "      <td>1848061S12075</td>\n",
       "      <td>1848</td>\n",
       "      <td>05</td>\n",
       "      <td>SI</td>\n",
       "      <td>MM</td>\n",
       "      <td>XXXX848001</td>\n",
       "      <td>1848-03-05 06:00:00</td>\n",
       "      <td>NR</td>\n",
       "      <td>-24.50</td>\n",
       "      <td>56.50</td>\n",
       "      <td>0.0</td>\n",
       "      <td>0.0</td>\n",
       "      <td>reunion</td>\n",
       "      <td>-100.000</td>\n",
       "      <td>-100.000</td>\n",
       "      <td>main</td>\n",
       "    </tr>\n",
       "    <tr>\n",
       "      <th>23</th>\n",
       "      <td>1848061S12075</td>\n",
       "      <td>1848</td>\n",
       "      <td>05</td>\n",
       "      <td>SI</td>\n",
       "      <td>MM</td>\n",
       "      <td>XXXX848001</td>\n",
       "      <td>1848-03-06 06:00:00</td>\n",
       "      <td>NR</td>\n",
       "      <td>-29.60</td>\n",
       "      <td>59.90</td>\n",
       "      <td>0.0</td>\n",
       "      <td>0.0</td>\n",
       "      <td>reunion</td>\n",
       "      <td>-100.000</td>\n",
       "      <td>-100.000</td>\n",
       "      <td>main</td>\n",
       "    </tr>\n",
       "    <tr>\n",
       "      <th>24</th>\n",
       "      <td>1848061S12075</td>\n",
       "      <td>1848</td>\n",
       "      <td>05</td>\n",
       "      <td>SI</td>\n",
       "      <td>MM</td>\n",
       "      <td>XXXX848001</td>\n",
       "      <td>1848-03-07 06:00:00</td>\n",
       "      <td>NR</td>\n",
       "      <td>-34.50</td>\n",
       "      <td>69.30</td>\n",
       "      <td>0.0</td>\n",
       "      <td>0.0</td>\n",
       "      <td>reunion</td>\n",
       "      <td>-100.000</td>\n",
       "      <td>-100.000</td>\n",
       "      <td>main</td>\n",
       "    </tr>\n",
       "    <tr>\n",
       "      <th>25</th>\n",
       "      <td>1851080S15063</td>\n",
       "      <td>1851</td>\n",
       "      <td>02</td>\n",
       "      <td>SI</td>\n",
       "      <td>MM</td>\n",
       "      <td>XXXX851006</td>\n",
       "      <td>1851-03-21 06:00:00</td>\n",
       "      <td>NR</td>\n",
       "      <td>-15.10</td>\n",
       "      <td>62.50</td>\n",
       "      <td>0.0</td>\n",
       "      <td>0.0</td>\n",
       "      <td>reunion</td>\n",
       "      <td>-100.000</td>\n",
       "      <td>-100.000</td>\n",
       "      <td>split</td>\n",
       "    </tr>\n",
       "    <tr>\n",
       "      <th>26</th>\n",
       "      <td>1851080S15063</td>\n",
       "      <td>1851</td>\n",
       "      <td>02</td>\n",
       "      <td>SI</td>\n",
       "      <td>MM</td>\n",
       "      <td>XXXX851006</td>\n",
       "      <td>1851-03-22 06:00:00</td>\n",
       "      <td>NR</td>\n",
       "      <td>-15.90</td>\n",
       "      <td>61.00</td>\n",
       "      <td>0.0</td>\n",
       "      <td>0.0</td>\n",
       "      <td>reunion</td>\n",
       "      <td>-100.000</td>\n",
       "      <td>-100.000</td>\n",
       "      <td>split</td>\n",
       "    </tr>\n",
       "    <tr>\n",
       "      <th>27</th>\n",
       "      <td>1851080S15063</td>\n",
       "      <td>1851</td>\n",
       "      <td>02</td>\n",
       "      <td>SI</td>\n",
       "      <td>MM</td>\n",
       "      <td>XXXX851006</td>\n",
       "      <td>1851-03-23 06:00:00</td>\n",
       "      <td>NR</td>\n",
       "      <td>-16.80</td>\n",
       "      <td>59.00</td>\n",
       "      <td>0.0</td>\n",
       "      <td>0.0</td>\n",
       "      <td>reunion</td>\n",
       "      <td>-100.000</td>\n",
       "      <td>-100.000</td>\n",
       "      <td>split</td>\n",
       "    </tr>\n",
       "    <tr>\n",
       "      <th>28</th>\n",
       "      <td>1851080S15063</td>\n",
       "      <td>1851</td>\n",
       "      <td>02</td>\n",
       "      <td>SI</td>\n",
       "      <td>MM</td>\n",
       "      <td>XXXX851006</td>\n",
       "      <td>1851-03-24 06:00:00</td>\n",
       "      <td>NR</td>\n",
       "      <td>-17.10</td>\n",
       "      <td>57.00</td>\n",
       "      <td>0.0</td>\n",
       "      <td>0.0</td>\n",
       "      <td>reunion</td>\n",
       "      <td>-100.000</td>\n",
       "      <td>-100.000</td>\n",
       "      <td>split</td>\n",
       "    </tr>\n",
       "    <tr>\n",
       "      <th>29</th>\n",
       "      <td>1851080S15063</td>\n",
       "      <td>1851</td>\n",
       "      <td>02</td>\n",
       "      <td>SI</td>\n",
       "      <td>MM</td>\n",
       "      <td>XXXX851006</td>\n",
       "      <td>1851-03-25 06:00:00</td>\n",
       "      <td>NR</td>\n",
       "      <td>-17.40</td>\n",
       "      <td>54.60</td>\n",
       "      <td>0.0</td>\n",
       "      <td>0.0</td>\n",
       "      <td>reunion</td>\n",
       "      <td>-100.000</td>\n",
       "      <td>-100.000</td>\n",
       "      <td>split</td>\n",
       "    </tr>\n",
       "    <tr>\n",
       "      <th>...</th>\n",
       "      <td>...</td>\n",
       "      <td>...</td>\n",
       "      <td>...</td>\n",
       "      <td>...</td>\n",
       "      <td>...</td>\n",
       "      <td>...</td>\n",
       "      <td>...</td>\n",
       "      <td>...</td>\n",
       "      <td>...</td>\n",
       "      <td>...</td>\n",
       "      <td>...</td>\n",
       "      <td>...</td>\n",
       "      <td>...</td>\n",
       "      <td>...</td>\n",
       "      <td>...</td>\n",
       "      <td>...</td>\n",
       "    </tr>\n",
       "    <tr>\n",
       "      <th>200523</th>\n",
       "      <td>2017114S08137</td>\n",
       "      <td>2017</td>\n",
       "      <td>4</td>\n",
       "      <td>SI</td>\n",
       "      <td>WA</td>\n",
       "      <td>FRANCES</td>\n",
       "      <td>2017-04-26 06:00:00</td>\n",
       "      <td>NR</td>\n",
       "      <td>-7.7</td>\n",
       "      <td>131.7</td>\n",
       "      <td>25</td>\n",
       "      <td>1003</td>\n",
       "      <td>bom</td>\n",
       "      <td>8.811</td>\n",
       "      <td>7.732</td>\n",
       "      <td>main</td>\n",
       "    </tr>\n",
       "    <tr>\n",
       "      <th>200524</th>\n",
       "      <td>2017114S08137</td>\n",
       "      <td>2017</td>\n",
       "      <td>4</td>\n",
       "      <td>SI</td>\n",
       "      <td>WA</td>\n",
       "      <td>FRANCES</td>\n",
       "      <td>2017-04-26 12:00:00</td>\n",
       "      <td>NR</td>\n",
       "      <td>-8.5</td>\n",
       "      <td>131.4</td>\n",
       "      <td>25</td>\n",
       "      <td>1005</td>\n",
       "      <td>bom</td>\n",
       "      <td>8.811</td>\n",
       "      <td>2.686</td>\n",
       "      <td>main</td>\n",
       "    </tr>\n",
       "    <tr>\n",
       "      <th>200525</th>\n",
       "      <td>2017114S08137</td>\n",
       "      <td>2017</td>\n",
       "      <td>4</td>\n",
       "      <td>SI</td>\n",
       "      <td>WA</td>\n",
       "      <td>FRANCES</td>\n",
       "      <td>2017-04-26 18:00:00</td>\n",
       "      <td>NR</td>\n",
       "      <td>-8.8</td>\n",
       "      <td>130.7</td>\n",
       "      <td>25</td>\n",
       "      <td>1004</td>\n",
       "      <td>bom</td>\n",
       "      <td>8.811</td>\n",
       "      <td>4.868</td>\n",
       "      <td>main</td>\n",
       "    </tr>\n",
       "    <tr>\n",
       "      <th>200526</th>\n",
       "      <td>2017114S08137</td>\n",
       "      <td>2017</td>\n",
       "      <td>4</td>\n",
       "      <td>SI</td>\n",
       "      <td>WA</td>\n",
       "      <td>FRANCES</td>\n",
       "      <td>2017-04-27 00:00:00</td>\n",
       "      <td>NR</td>\n",
       "      <td>-10</td>\n",
       "      <td>130.1</td>\n",
       "      <td>30</td>\n",
       "      <td>1002</td>\n",
       "      <td>bom</td>\n",
       "      <td>25.808</td>\n",
       "      <td>10.454</td>\n",
       "      <td>main</td>\n",
       "    </tr>\n",
       "    <tr>\n",
       "      <th>200527</th>\n",
       "      <td>2017114S08137</td>\n",
       "      <td>2017</td>\n",
       "      <td>4</td>\n",
       "      <td>SI</td>\n",
       "      <td>WA</td>\n",
       "      <td>FRANCES</td>\n",
       "      <td>2017-04-27 06:00:00</td>\n",
       "      <td>NR</td>\n",
       "      <td>-10.5</td>\n",
       "      <td>129.2</td>\n",
       "      <td>35</td>\n",
       "      <td>997</td>\n",
       "      <td>bom</td>\n",
       "      <td>38.771</td>\n",
       "      <td>31.234</td>\n",
       "      <td>main</td>\n",
       "    </tr>\n",
       "    <tr>\n",
       "      <th>200528</th>\n",
       "      <td>2017114S08137</td>\n",
       "      <td>2017</td>\n",
       "      <td>4</td>\n",
       "      <td>SI</td>\n",
       "      <td>WA</td>\n",
       "      <td>FRANCES</td>\n",
       "      <td>2017-04-27 12:00:00</td>\n",
       "      <td>NR</td>\n",
       "      <td>-10.7</td>\n",
       "      <td>128.3</td>\n",
       "      <td>45</td>\n",
       "      <td>994</td>\n",
       "      <td>bom</td>\n",
       "      <td>55.849</td>\n",
       "      <td>43.442</td>\n",
       "      <td>main</td>\n",
       "    </tr>\n",
       "    <tr>\n",
       "      <th>200529</th>\n",
       "      <td>2017114S08137</td>\n",
       "      <td>2017</td>\n",
       "      <td>4</td>\n",
       "      <td>SI</td>\n",
       "      <td>WA</td>\n",
       "      <td>FRANCES</td>\n",
       "      <td>2017-04-27 18:00:00</td>\n",
       "      <td>NR</td>\n",
       "      <td>-11</td>\n",
       "      <td>127.5</td>\n",
       "      <td>50</td>\n",
       "      <td>993</td>\n",
       "      <td>bom</td>\n",
       "      <td>60.653</td>\n",
       "      <td>46.447</td>\n",
       "      <td>main</td>\n",
       "    </tr>\n",
       "    <tr>\n",
       "      <th>200530</th>\n",
       "      <td>2017114S08137</td>\n",
       "      <td>2017</td>\n",
       "      <td>4</td>\n",
       "      <td>SI</td>\n",
       "      <td>WA</td>\n",
       "      <td>FRANCES</td>\n",
       "      <td>2017-04-28 00:00:00</td>\n",
       "      <td>NR</td>\n",
       "      <td>-11.3</td>\n",
       "      <td>126.4</td>\n",
       "      <td>55</td>\n",
       "      <td>990</td>\n",
       "      <td>bom</td>\n",
       "      <td>69.702</td>\n",
       "      <td>52.321</td>\n",
       "      <td>main</td>\n",
       "    </tr>\n",
       "    <tr>\n",
       "      <th>200531</th>\n",
       "      <td>2017114S08137</td>\n",
       "      <td>2017</td>\n",
       "      <td>4</td>\n",
       "      <td>SI</td>\n",
       "      <td>WA</td>\n",
       "      <td>FRANCES</td>\n",
       "      <td>2017-04-28 06:00:00</td>\n",
       "      <td>NR</td>\n",
       "      <td>-11.8</td>\n",
       "      <td>125.6</td>\n",
       "      <td>65</td>\n",
       "      <td>983</td>\n",
       "      <td>bom</td>\n",
       "      <td>78.895</td>\n",
       "      <td>68.833</td>\n",
       "      <td>main</td>\n",
       "    </tr>\n",
       "    <tr>\n",
       "      <th>200532</th>\n",
       "      <td>2017114S08137</td>\n",
       "      <td>2017</td>\n",
       "      <td>4</td>\n",
       "      <td>SI</td>\n",
       "      <td>WA</td>\n",
       "      <td>FRANCES</td>\n",
       "      <td>2017-04-28 12:00:00</td>\n",
       "      <td>NR</td>\n",
       "      <td>-12.2</td>\n",
       "      <td>125.1</td>\n",
       "      <td>65</td>\n",
       "      <td>981</td>\n",
       "      <td>bom</td>\n",
       "      <td>78.895</td>\n",
       "      <td>70.691</td>\n",
       "      <td>main</td>\n",
       "    </tr>\n",
       "    <tr>\n",
       "      <th>200533</th>\n",
       "      <td>2017114S08137</td>\n",
       "      <td>2017</td>\n",
       "      <td>4</td>\n",
       "      <td>SI</td>\n",
       "      <td>WA</td>\n",
       "      <td>FRANCES</td>\n",
       "      <td>2017-04-28 18:00:00</td>\n",
       "      <td>NR</td>\n",
       "      <td>-12.4</td>\n",
       "      <td>124.4</td>\n",
       "      <td>65</td>\n",
       "      <td>980</td>\n",
       "      <td>bom</td>\n",
       "      <td>78.895</td>\n",
       "      <td>71.188</td>\n",
       "      <td>main</td>\n",
       "    </tr>\n",
       "    <tr>\n",
       "      <th>200534</th>\n",
       "      <td>2017114S08137</td>\n",
       "      <td>2017</td>\n",
       "      <td>4</td>\n",
       "      <td>SI</td>\n",
       "      <td>WA</td>\n",
       "      <td>FRANCES</td>\n",
       "      <td>2017-04-29 00:00:00</td>\n",
       "      <td>NR</td>\n",
       "      <td>-12.7</td>\n",
       "      <td>124</td>\n",
       "      <td>65</td>\n",
       "      <td>982</td>\n",
       "      <td>bom</td>\n",
       "      <td>78.895</td>\n",
       "      <td>69.502</td>\n",
       "      <td>main</td>\n",
       "    </tr>\n",
       "    <tr>\n",
       "      <th>200535</th>\n",
       "      <td>2017114S08137</td>\n",
       "      <td>2017</td>\n",
       "      <td>4</td>\n",
       "      <td>SI</td>\n",
       "      <td>WA</td>\n",
       "      <td>FRANCES</td>\n",
       "      <td>2017-04-29 06:00:00</td>\n",
       "      <td>NR</td>\n",
       "      <td>-13</td>\n",
       "      <td>123.8</td>\n",
       "      <td>55</td>\n",
       "      <td>989</td>\n",
       "      <td>bom</td>\n",
       "      <td>69.702</td>\n",
       "      <td>58.471</td>\n",
       "      <td>main</td>\n",
       "    </tr>\n",
       "    <tr>\n",
       "      <th>200536</th>\n",
       "      <td>2017114S08137</td>\n",
       "      <td>2017</td>\n",
       "      <td>4</td>\n",
       "      <td>SI</td>\n",
       "      <td>WA</td>\n",
       "      <td>FRANCES</td>\n",
       "      <td>2017-04-29 12:00:00</td>\n",
       "      <td>NR</td>\n",
       "      <td>-13</td>\n",
       "      <td>123.2</td>\n",
       "      <td>50</td>\n",
       "      <td>992</td>\n",
       "      <td>bom</td>\n",
       "      <td>60.653</td>\n",
       "      <td>48.176</td>\n",
       "      <td>main</td>\n",
       "    </tr>\n",
       "    <tr>\n",
       "      <th>200537</th>\n",
       "      <td>2017114S08137</td>\n",
       "      <td>2017</td>\n",
       "      <td>4</td>\n",
       "      <td>SI</td>\n",
       "      <td>WA</td>\n",
       "      <td>FRANCES</td>\n",
       "      <td>2017-04-29 18:00:00</td>\n",
       "      <td>NR</td>\n",
       "      <td>-13.1</td>\n",
       "      <td>122.6</td>\n",
       "      <td>35</td>\n",
       "      <td>1000</td>\n",
       "      <td>bom</td>\n",
       "      <td>38.771</td>\n",
       "      <td>16.678</td>\n",
       "      <td>main</td>\n",
       "    </tr>\n",
       "    <tr>\n",
       "      <th>200538</th>\n",
       "      <td>2017114S08137</td>\n",
       "      <td>2017</td>\n",
       "      <td>4</td>\n",
       "      <td>SI</td>\n",
       "      <td>WA</td>\n",
       "      <td>FRANCES</td>\n",
       "      <td>2017-04-30 00:00:00</td>\n",
       "      <td>NR</td>\n",
       "      <td>-13.4</td>\n",
       "      <td>122.2</td>\n",
       "      <td>35</td>\n",
       "      <td>1002</td>\n",
       "      <td>bom</td>\n",
       "      <td>38.771</td>\n",
       "      <td>10.454</td>\n",
       "      <td>main</td>\n",
       "    </tr>\n",
       "    <tr>\n",
       "      <th>200539</th>\n",
       "      <td>2017161N13119</td>\n",
       "      <td>2017</td>\n",
       "      <td>2</td>\n",
       "      <td>WP</td>\n",
       "      <td>MM</td>\n",
       "      <td>MERBOK</td>\n",
       "      <td>2017-06-10 00:00:00</td>\n",
       "      <td>TS</td>\n",
       "      <td>13</td>\n",
       "      <td>119</td>\n",
       "      <td>0</td>\n",
       "      <td>1006</td>\n",
       "      <td>tokyo</td>\n",
       "      <td>-100</td>\n",
       "      <td>4.459</td>\n",
       "      <td>main</td>\n",
       "    </tr>\n",
       "    <tr>\n",
       "      <th>200540</th>\n",
       "      <td>2017161N13119</td>\n",
       "      <td>2017</td>\n",
       "      <td>2</td>\n",
       "      <td>WP</td>\n",
       "      <td>MM</td>\n",
       "      <td>MERBOK</td>\n",
       "      <td>2017-06-10 06:00:00</td>\n",
       "      <td>TS</td>\n",
       "      <td>13.4</td>\n",
       "      <td>118.5</td>\n",
       "      <td>0</td>\n",
       "      <td>1006</td>\n",
       "      <td>tokyo</td>\n",
       "      <td>-100</td>\n",
       "      <td>4.459</td>\n",
       "      <td>main</td>\n",
       "    </tr>\n",
       "    <tr>\n",
       "      <th>200541</th>\n",
       "      <td>2017161N13119</td>\n",
       "      <td>2017</td>\n",
       "      <td>2</td>\n",
       "      <td>WP</td>\n",
       "      <td>MM</td>\n",
       "      <td>MERBOK</td>\n",
       "      <td>2017-06-10 12:00:00</td>\n",
       "      <td>TS</td>\n",
       "      <td>14</td>\n",
       "      <td>117.8</td>\n",
       "      <td>0</td>\n",
       "      <td>1006</td>\n",
       "      <td>tokyo</td>\n",
       "      <td>-100</td>\n",
       "      <td>4.459</td>\n",
       "      <td>main</td>\n",
       "    </tr>\n",
       "    <tr>\n",
       "      <th>200542</th>\n",
       "      <td>2017161N13119</td>\n",
       "      <td>2017</td>\n",
       "      <td>2</td>\n",
       "      <td>WP</td>\n",
       "      <td>MM</td>\n",
       "      <td>MERBOK</td>\n",
       "      <td>2017-06-10 18:00:00</td>\n",
       "      <td>TS</td>\n",
       "      <td>15</td>\n",
       "      <td>117.3</td>\n",
       "      <td>0</td>\n",
       "      <td>1004</td>\n",
       "      <td>tokyo</td>\n",
       "      <td>-100</td>\n",
       "      <td>8.39</td>\n",
       "      <td>main</td>\n",
       "    </tr>\n",
       "    <tr>\n",
       "      <th>200543</th>\n",
       "      <td>2017161N13119</td>\n",
       "      <td>2017</td>\n",
       "      <td>2</td>\n",
       "      <td>WP</td>\n",
       "      <td>MM</td>\n",
       "      <td>MERBOK</td>\n",
       "      <td>2017-06-11 00:00:00</td>\n",
       "      <td>TS</td>\n",
       "      <td>16</td>\n",
       "      <td>116.8</td>\n",
       "      <td>35</td>\n",
       "      <td>1002</td>\n",
       "      <td>tokyo</td>\n",
       "      <td>0</td>\n",
       "      <td>15.757</td>\n",
       "      <td>main</td>\n",
       "    </tr>\n",
       "    <tr>\n",
       "      <th>200544</th>\n",
       "      <td>2017161N13119</td>\n",
       "      <td>2017</td>\n",
       "      <td>2</td>\n",
       "      <td>WP</td>\n",
       "      <td>MM</td>\n",
       "      <td>MERBOK</td>\n",
       "      <td>2017-06-11 06:00:00</td>\n",
       "      <td>TS</td>\n",
       "      <td>17.1</td>\n",
       "      <td>116.6</td>\n",
       "      <td>35</td>\n",
       "      <td>1002</td>\n",
       "      <td>tokyo</td>\n",
       "      <td>0</td>\n",
       "      <td>15.757</td>\n",
       "      <td>main</td>\n",
       "    </tr>\n",
       "    <tr>\n",
       "      <th>200545</th>\n",
       "      <td>2017161N13119</td>\n",
       "      <td>2017</td>\n",
       "      <td>2</td>\n",
       "      <td>WP</td>\n",
       "      <td>MM</td>\n",
       "      <td>MERBOK</td>\n",
       "      <td>2017-06-11 12:00:00</td>\n",
       "      <td>TS</td>\n",
       "      <td>18.1</td>\n",
       "      <td>116.2</td>\n",
       "      <td>35</td>\n",
       "      <td>1002</td>\n",
       "      <td>tokyo</td>\n",
       "      <td>0</td>\n",
       "      <td>15.757</td>\n",
       "      <td>main</td>\n",
       "    </tr>\n",
       "    <tr>\n",
       "      <th>200546</th>\n",
       "      <td>2017161N13119</td>\n",
       "      <td>2017</td>\n",
       "      <td>2</td>\n",
       "      <td>WP</td>\n",
       "      <td>MM</td>\n",
       "      <td>MERBOK</td>\n",
       "      <td>2017-06-11 18:00:00</td>\n",
       "      <td>TS</td>\n",
       "      <td>19.3</td>\n",
       "      <td>115.6</td>\n",
       "      <td>40</td>\n",
       "      <td>998</td>\n",
       "      <td>tokyo</td>\n",
       "      <td>10.928</td>\n",
       "      <td>27.967</td>\n",
       "      <td>main</td>\n",
       "    </tr>\n",
       "    <tr>\n",
       "      <th>200547</th>\n",
       "      <td>2017161N13119</td>\n",
       "      <td>2017</td>\n",
       "      <td>2</td>\n",
       "      <td>WP</td>\n",
       "      <td>MM</td>\n",
       "      <td>MERBOK</td>\n",
       "      <td>2017-06-12 00:00:00</td>\n",
       "      <td>TS</td>\n",
       "      <td>20.1</td>\n",
       "      <td>114.9</td>\n",
       "      <td>45</td>\n",
       "      <td>994</td>\n",
       "      <td>tokyo</td>\n",
       "      <td>22.064</td>\n",
       "      <td>39.314</td>\n",
       "      <td>main</td>\n",
       "    </tr>\n",
       "    <tr>\n",
       "      <th>200548</th>\n",
       "      <td>2017161N13119</td>\n",
       "      <td>2017</td>\n",
       "      <td>2</td>\n",
       "      <td>WP</td>\n",
       "      <td>MM</td>\n",
       "      <td>MERBOK</td>\n",
       "      <td>2017-06-12 06:00:00</td>\n",
       "      <td>TS</td>\n",
       "      <td>21.2</td>\n",
       "      <td>114.5</td>\n",
       "      <td>50</td>\n",
       "      <td>990</td>\n",
       "      <td>tokyo</td>\n",
       "      <td>33.442</td>\n",
       "      <td>48.188</td>\n",
       "      <td>main</td>\n",
       "    </tr>\n",
       "    <tr>\n",
       "      <th>200549</th>\n",
       "      <td>2017161N13119</td>\n",
       "      <td>2017</td>\n",
       "      <td>2</td>\n",
       "      <td>WP</td>\n",
       "      <td>MM</td>\n",
       "      <td>MERBOK</td>\n",
       "      <td>2017-06-12 12:00:00</td>\n",
       "      <td>TS</td>\n",
       "      <td>22</td>\n",
       "      <td>114.4</td>\n",
       "      <td>55</td>\n",
       "      <td>985</td>\n",
       "      <td>tokyo</td>\n",
       "      <td>43.392</td>\n",
       "      <td>55.687</td>\n",
       "      <td>main</td>\n",
       "    </tr>\n",
       "    <tr>\n",
       "      <th>200550</th>\n",
       "      <td>2017161N13119</td>\n",
       "      <td>2017</td>\n",
       "      <td>2</td>\n",
       "      <td>WP</td>\n",
       "      <td>MM</td>\n",
       "      <td>MERBOK</td>\n",
       "      <td>2017-06-12 18:00:00</td>\n",
       "      <td>TS</td>\n",
       "      <td>22.9</td>\n",
       "      <td>114.6</td>\n",
       "      <td>45</td>\n",
       "      <td>994</td>\n",
       "      <td>tokyo</td>\n",
       "      <td>22.064</td>\n",
       "      <td>39.314</td>\n",
       "      <td>main</td>\n",
       "    </tr>\n",
       "    <tr>\n",
       "      <th>200551</th>\n",
       "      <td>2017161N13119</td>\n",
       "      <td>2017</td>\n",
       "      <td>2</td>\n",
       "      <td>WP</td>\n",
       "      <td>MM</td>\n",
       "      <td>MERBOK</td>\n",
       "      <td>2017-06-13 00:00:00</td>\n",
       "      <td>TS</td>\n",
       "      <td>24</td>\n",
       "      <td>115</td>\n",
       "      <td>0</td>\n",
       "      <td>1002</td>\n",
       "      <td>tokyo</td>\n",
       "      <td>-100</td>\n",
       "      <td>15.757</td>\n",
       "      <td>main</td>\n",
       "    </tr>\n",
       "    <tr>\n",
       "      <th>200552</th>\n",
       "      <td>2017161N13119</td>\n",
       "      <td>2017</td>\n",
       "      <td>2</td>\n",
       "      <td>WP</td>\n",
       "      <td>MM</td>\n",
       "      <td>MERBOK</td>\n",
       "      <td>2017-06-13 06:00:00</td>\n",
       "      <td>TS</td>\n",
       "      <td>25.5</td>\n",
       "      <td>115.7</td>\n",
       "      <td>0</td>\n",
       "      <td>1004</td>\n",
       "      <td>tokyo</td>\n",
       "      <td>-100</td>\n",
       "      <td>8.39</td>\n",
       "      <td>main</td>\n",
       "    </tr>\n",
       "  </tbody>\n",
       "</table>\n",
       "<p>200553 rows × 16 columns</p>\n",
       "</div>"
      ],
      "text/plain": [
       "           Serial_Num Season Num Basin Sub_basin        Name  \\\n",
       "0                 NaN   Year   #    BB        BB         NaN   \n",
       "1       1848011S09080   1848  02    SI        MM  XXXX848003   \n",
       "2       1848011S09080   1848  02    SI        MM  XXXX848003   \n",
       "3       1848011S09080   1848  02    SI        MM  XXXX848003   \n",
       "4       1848011S09080   1848  02    SI        MM  XXXX848003   \n",
       "5       1848011S09080   1848  02    SI        MM  XXXX848003   \n",
       "6       1848011S09080   1848  02    SI        MM  XXXX848003   \n",
       "7       1848011S09080   1848  02    SI        MM  XXXX848003   \n",
       "8       1848011S09080   1848  02    SI        MM  XXXX848003   \n",
       "9       1848011S09080   1848  02    SI        MM  XXXX848003   \n",
       "10      1848011S09080   1848  02    SI        MM  XXXX848003   \n",
       "11      1848011S09080   1848  02    SI        MM  XXXX848003   \n",
       "12      1848011S15057   1848  03    SI        MM  XXXX848002   \n",
       "13      1848011S15057   1848  03    SI        MM  XXXX848002   \n",
       "14      1848011S15057   1848  03    SI        MM  XXXX848002   \n",
       "15      1848011S15057   1848  03    SI        MM  XXXX848002   \n",
       "16      1848011S15057   1848  03    SI        MM  XXXX848002   \n",
       "17      1848011S15057   1848  03    SI        MM  XXXX848002   \n",
       "18      1848061S12075   1848  05    SI        MM  XXXX848001   \n",
       "19      1848061S12075   1848  05    SI        MM  XXXX848001   \n",
       "20      1848061S12075   1848  05    SI        MM  XXXX848001   \n",
       "21      1848061S12075   1848  05    SI        MM  XXXX848001   \n",
       "22      1848061S12075   1848  05    SI        MM  XXXX848001   \n",
       "23      1848061S12075   1848  05    SI        MM  XXXX848001   \n",
       "24      1848061S12075   1848  05    SI        MM  XXXX848001   \n",
       "25      1851080S15063   1851  02    SI        MM  XXXX851006   \n",
       "26      1851080S15063   1851  02    SI        MM  XXXX851006   \n",
       "27      1851080S15063   1851  02    SI        MM  XXXX851006   \n",
       "28      1851080S15063   1851  02    SI        MM  XXXX851006   \n",
       "29      1851080S15063   1851  02    SI        MM  XXXX851006   \n",
       "...               ...    ...  ..   ...       ...         ...   \n",
       "200523  2017114S08137   2017   4    SI        WA     FRANCES   \n",
       "200524  2017114S08137   2017   4    SI        WA     FRANCES   \n",
       "200525  2017114S08137   2017   4    SI        WA     FRANCES   \n",
       "200526  2017114S08137   2017   4    SI        WA     FRANCES   \n",
       "200527  2017114S08137   2017   4    SI        WA     FRANCES   \n",
       "200528  2017114S08137   2017   4    SI        WA     FRANCES   \n",
       "200529  2017114S08137   2017   4    SI        WA     FRANCES   \n",
       "200530  2017114S08137   2017   4    SI        WA     FRANCES   \n",
       "200531  2017114S08137   2017   4    SI        WA     FRANCES   \n",
       "200532  2017114S08137   2017   4    SI        WA     FRANCES   \n",
       "200533  2017114S08137   2017   4    SI        WA     FRANCES   \n",
       "200534  2017114S08137   2017   4    SI        WA     FRANCES   \n",
       "200535  2017114S08137   2017   4    SI        WA     FRANCES   \n",
       "200536  2017114S08137   2017   4    SI        WA     FRANCES   \n",
       "200537  2017114S08137   2017   4    SI        WA     FRANCES   \n",
       "200538  2017114S08137   2017   4    SI        WA     FRANCES   \n",
       "200539  2017161N13119   2017   2    WP        MM      MERBOK   \n",
       "200540  2017161N13119   2017   2    WP        MM      MERBOK   \n",
       "200541  2017161N13119   2017   2    WP        MM      MERBOK   \n",
       "200542  2017161N13119   2017   2    WP        MM      MERBOK   \n",
       "200543  2017161N13119   2017   2    WP        MM      MERBOK   \n",
       "200544  2017161N13119   2017   2    WP        MM      MERBOK   \n",
       "200545  2017161N13119   2017   2    WP        MM      MERBOK   \n",
       "200546  2017161N13119   2017   2    WP        MM      MERBOK   \n",
       "200547  2017161N13119   2017   2    WP        MM      MERBOK   \n",
       "200548  2017161N13119   2017   2    WP        MM      MERBOK   \n",
       "200549  2017161N13119   2017   2    WP        MM      MERBOK   \n",
       "200550  2017161N13119   2017   2    WP        MM      MERBOK   \n",
       "200551  2017161N13119   2017   2    WP        MM      MERBOK   \n",
       "200552  2017161N13119   2017   2    WP        MM      MERBOK   \n",
       "\n",
       "                   ISO_time Nature   Latitude Longitude Wind(WMO) Pres(WMO)  \\\n",
       "0       YYYY-MM-DD HH:MM:SS    NaN  deg_north  deg_east        kt        mb   \n",
       "1       1848-01-11 06:00:00     NR      -8.60     79.80       0.0       0.0   \n",
       "2       1848-01-12 06:00:00     NR      -9.00     78.90       0.0       0.0   \n",
       "3       1848-01-13 06:00:00     NR     -10.40     73.20       0.0       0.0   \n",
       "4       1848-01-14 06:00:00     NR     -12.80     69.90       0.0       0.0   \n",
       "5       1848-01-15 06:00:00     NR     -13.90     68.90       0.0       0.0   \n",
       "6       1848-01-16 06:00:00     NR     -15.30     67.70       0.0       0.0   \n",
       "7       1848-01-17 06:00:00     NR     -16.50     67.00       0.0       0.0   \n",
       "8       1848-01-18 06:00:00     NR     -18.00     67.40       0.0       0.0   \n",
       "9       1848-01-19 06:00:00     NR     -20.60     69.80       0.0       0.0   \n",
       "10      1848-01-20 06:00:00     NR     -22.80     72.00       0.0       0.0   \n",
       "11      1848-01-21 06:00:00     NR     -27.20     75.80       0.0       0.0   \n",
       "12      1848-01-11 06:00:00     NR     -15.20     57.40       0.0       0.0   \n",
       "13      1848-01-12 06:00:00     NR     -15.80     56.60       0.0       0.0   \n",
       "14      1848-01-13 06:00:00     NR     -20.30     49.90       0.0       0.0   \n",
       "15      1848-01-14 06:00:00     NR     -26.10     46.70       0.0       0.0   \n",
       "16      1848-01-15 06:00:00     NR     -33.20     50.40       0.0       0.0   \n",
       "17      1848-01-16 06:00:00     NR     -34.10     51.10       0.0       0.0   \n",
       "18      1848-03-01 06:00:00     NR     -11.40     75.50       0.0       0.0   \n",
       "19      1848-03-02 06:00:00     NR     -11.70     74.00       0.0       0.0   \n",
       "20      1848-03-03 06:00:00     NR     -14.40     64.60       0.0       0.0   \n",
       "21      1848-03-04 06:00:00     NR     -17.60     57.60       0.0       0.0   \n",
       "22      1848-03-05 06:00:00     NR     -24.50     56.50       0.0       0.0   \n",
       "23      1848-03-06 06:00:00     NR     -29.60     59.90       0.0       0.0   \n",
       "24      1848-03-07 06:00:00     NR     -34.50     69.30       0.0       0.0   \n",
       "25      1851-03-21 06:00:00     NR     -15.10     62.50       0.0       0.0   \n",
       "26      1851-03-22 06:00:00     NR     -15.90     61.00       0.0       0.0   \n",
       "27      1851-03-23 06:00:00     NR     -16.80     59.00       0.0       0.0   \n",
       "28      1851-03-24 06:00:00     NR     -17.10     57.00       0.0       0.0   \n",
       "29      1851-03-25 06:00:00     NR     -17.40     54.60       0.0       0.0   \n",
       "...                     ...    ...        ...       ...       ...       ...   \n",
       "200523  2017-04-26 06:00:00     NR       -7.7     131.7        25      1003   \n",
       "200524  2017-04-26 12:00:00     NR       -8.5     131.4        25      1005   \n",
       "200525  2017-04-26 18:00:00     NR       -8.8     130.7        25      1004   \n",
       "200526  2017-04-27 00:00:00     NR        -10     130.1        30      1002   \n",
       "200527  2017-04-27 06:00:00     NR      -10.5     129.2        35       997   \n",
       "200528  2017-04-27 12:00:00     NR      -10.7     128.3        45       994   \n",
       "200529  2017-04-27 18:00:00     NR        -11     127.5        50       993   \n",
       "200530  2017-04-28 00:00:00     NR      -11.3     126.4        55       990   \n",
       "200531  2017-04-28 06:00:00     NR      -11.8     125.6        65       983   \n",
       "200532  2017-04-28 12:00:00     NR      -12.2     125.1        65       981   \n",
       "200533  2017-04-28 18:00:00     NR      -12.4     124.4        65       980   \n",
       "200534  2017-04-29 00:00:00     NR      -12.7       124        65       982   \n",
       "200535  2017-04-29 06:00:00     NR        -13     123.8        55       989   \n",
       "200536  2017-04-29 12:00:00     NR        -13     123.2        50       992   \n",
       "200537  2017-04-29 18:00:00     NR      -13.1     122.6        35      1000   \n",
       "200538  2017-04-30 00:00:00     NR      -13.4     122.2        35      1002   \n",
       "200539  2017-06-10 00:00:00     TS         13       119         0      1006   \n",
       "200540  2017-06-10 06:00:00     TS       13.4     118.5         0      1006   \n",
       "200541  2017-06-10 12:00:00     TS         14     117.8         0      1006   \n",
       "200542  2017-06-10 18:00:00     TS         15     117.3         0      1004   \n",
       "200543  2017-06-11 00:00:00     TS         16     116.8        35      1002   \n",
       "200544  2017-06-11 06:00:00     TS       17.1     116.6        35      1002   \n",
       "200545  2017-06-11 12:00:00     TS       18.1     116.2        35      1002   \n",
       "200546  2017-06-11 18:00:00     TS       19.3     115.6        40       998   \n",
       "200547  2017-06-12 00:00:00     TS       20.1     114.9        45       994   \n",
       "200548  2017-06-12 06:00:00     TS       21.2     114.5        50       990   \n",
       "200549  2017-06-12 12:00:00     TS         22     114.4        55       985   \n",
       "200550  2017-06-12 18:00:00     TS       22.9     114.6        45       994   \n",
       "200551  2017-06-13 00:00:00     TS         24       115         0      1002   \n",
       "200552  2017-06-13 06:00:00     TS       25.5     115.7         0      1004   \n",
       "\n",
       "         Center Wind(WMO) Percentile Pres(WMO) Percentile Track_type  \n",
       "0           NaN                    %                    %        NaN  \n",
       "1       reunion             -100.000             -100.000       main  \n",
       "2       reunion             -100.000             -100.000       main  \n",
       "3       reunion             -100.000             -100.000       main  \n",
       "4       reunion             -100.000             -100.000       main  \n",
       "5       reunion             -100.000             -100.000       main  \n",
       "6       reunion             -100.000             -100.000       main  \n",
       "7       reunion             -100.000             -100.000       main  \n",
       "8       reunion             -100.000             -100.000       main  \n",
       "9       reunion             -100.000             -100.000       main  \n",
       "10      reunion             -100.000             -100.000       main  \n",
       "11      reunion             -100.000             -100.000       main  \n",
       "12      reunion             -100.000             -100.000       main  \n",
       "13      reunion             -100.000             -100.000       main  \n",
       "14      reunion             -100.000             -100.000       main  \n",
       "15      reunion             -100.000             -100.000       main  \n",
       "16      reunion             -100.000             -100.000       main  \n",
       "17      reunion             -100.000             -100.000       main  \n",
       "18      reunion             -100.000             -100.000       main  \n",
       "19      reunion             -100.000             -100.000       main  \n",
       "20      reunion             -100.000             -100.000       main  \n",
       "21      reunion             -100.000             -100.000       main  \n",
       "22      reunion             -100.000             -100.000       main  \n",
       "23      reunion             -100.000             -100.000       main  \n",
       "24      reunion             -100.000             -100.000       main  \n",
       "25      reunion             -100.000             -100.000      split  \n",
       "26      reunion             -100.000             -100.000      split  \n",
       "27      reunion             -100.000             -100.000      split  \n",
       "28      reunion             -100.000             -100.000      split  \n",
       "29      reunion             -100.000             -100.000      split  \n",
       "...         ...                  ...                  ...        ...  \n",
       "200523      bom                8.811                7.732       main  \n",
       "200524      bom                8.811                2.686       main  \n",
       "200525      bom                8.811                4.868       main  \n",
       "200526      bom               25.808               10.454       main  \n",
       "200527      bom               38.771               31.234       main  \n",
       "200528      bom               55.849               43.442       main  \n",
       "200529      bom               60.653               46.447       main  \n",
       "200530      bom               69.702               52.321       main  \n",
       "200531      bom               78.895               68.833       main  \n",
       "200532      bom               78.895               70.691       main  \n",
       "200533      bom               78.895               71.188       main  \n",
       "200534      bom               78.895               69.502       main  \n",
       "200535      bom               69.702               58.471       main  \n",
       "200536      bom               60.653               48.176       main  \n",
       "200537      bom               38.771               16.678       main  \n",
       "200538      bom               38.771               10.454       main  \n",
       "200539    tokyo                 -100                4.459       main  \n",
       "200540    tokyo                 -100                4.459       main  \n",
       "200541    tokyo                 -100                4.459       main  \n",
       "200542    tokyo                 -100                 8.39       main  \n",
       "200543    tokyo                    0               15.757       main  \n",
       "200544    tokyo                    0               15.757       main  \n",
       "200545    tokyo                    0               15.757       main  \n",
       "200546    tokyo               10.928               27.967       main  \n",
       "200547    tokyo               22.064               39.314       main  \n",
       "200548    tokyo               33.442               48.188       main  \n",
       "200549    tokyo               43.392               55.687       main  \n",
       "200550    tokyo               22.064               39.314       main  \n",
       "200551    tokyo                 -100               15.757       main  \n",
       "200552    tokyo                 -100                 8.39       main  \n",
       "\n",
       "[200553 rows x 16 columns]"
      ]
     },
     "execution_count": 3,
     "metadata": {},
     "output_type": "execute_result"
    }
   ],
   "source": [
    "data"
   ]
  },
  {
   "cell_type": "code",
   "execution_count": 4,
   "metadata": {
    "hidden": true
   },
   "outputs": [],
   "source": [
    "data = data[1:]"
   ]
  },
  {
   "cell_type": "code",
   "execution_count": 5,
   "metadata": {
    "hidden": true,
    "scrolled": true
   },
   "outputs": [
    {
     "data": {
      "text/plain": [
       "(200552, 16)"
      ]
     },
     "execution_count": 5,
     "metadata": {},
     "output_type": "execute_result"
    }
   ],
   "source": [
    "data.shape"
   ]
  },
  {
   "cell_type": "code",
   "execution_count": 6,
   "metadata": {
    "hidden": true
   },
   "outputs": [],
   "source": [
    "huricanes = data[(data['Latitude'].astype(float).between(32.00, 36.00)) & (data['Longitude'].astype(float).between(-80.00,-65.00))]"
   ]
  },
  {
   "cell_type": "code",
   "execution_count": 7,
   "metadata": {
    "hidden": true,
    "scrolled": true
   },
   "outputs": [
    {
     "data": {
      "text/html": [
       "<div>\n",
       "<style scoped>\n",
       "    .dataframe tbody tr th:only-of-type {\n",
       "        vertical-align: middle;\n",
       "    }\n",
       "\n",
       "    .dataframe tbody tr th {\n",
       "        vertical-align: top;\n",
       "    }\n",
       "\n",
       "    .dataframe thead th {\n",
       "        text-align: right;\n",
       "    }\n",
       "</style>\n",
       "<table border=\"1\" class=\"dataframe\">\n",
       "  <thead>\n",
       "    <tr style=\"text-align: right;\">\n",
       "      <th></th>\n",
       "      <th>Serial_Num</th>\n",
       "      <th>Season</th>\n",
       "      <th>Num</th>\n",
       "      <th>Basin</th>\n",
       "      <th>Sub_basin</th>\n",
       "      <th>Name</th>\n",
       "      <th>ISO_time</th>\n",
       "      <th>Nature</th>\n",
       "      <th>Latitude</th>\n",
       "      <th>Longitude</th>\n",
       "      <th>Wind(WMO)</th>\n",
       "      <th>Pres(WMO)</th>\n",
       "      <th>Center</th>\n",
       "      <th>Wind(WMO) Percentile</th>\n",
       "      <th>Pres(WMO) Percentile</th>\n",
       "      <th>Track_type</th>\n",
       "    </tr>\n",
       "  </thead>\n",
       "  <tbody>\n",
       "    <tr>\n",
       "      <th>199676</th>\n",
       "      <td>2016273N13300</td>\n",
       "      <td>2016</td>\n",
       "      <td>14</td>\n",
       "      <td>NA</td>\n",
       "      <td>NA</td>\n",
       "      <td>MATTHEW</td>\n",
       "      <td>2016-10-09 12:00:00</td>\n",
       "      <td>ET</td>\n",
       "      <td>35</td>\n",
       "      <td>-74.5</td>\n",
       "      <td>65</td>\n",
       "      <td>984</td>\n",
       "      <td>atcf</td>\n",
       "      <td>74.042</td>\n",
       "      <td>78.971</td>\n",
       "      <td>main</td>\n",
       "    </tr>\n",
       "    <tr>\n",
       "      <th>199677</th>\n",
       "      <td>2016273N13300</td>\n",
       "      <td>2016</td>\n",
       "      <td>14</td>\n",
       "      <td>NA</td>\n",
       "      <td>NA</td>\n",
       "      <td>MATTHEW</td>\n",
       "      <td>2016-10-09 18:00:00</td>\n",
       "      <td>ET</td>\n",
       "      <td>35.2</td>\n",
       "      <td>-72.8</td>\n",
       "      <td>60</td>\n",
       "      <td>987</td>\n",
       "      <td>atcf</td>\n",
       "      <td>69.835</td>\n",
       "      <td>75.141</td>\n",
       "      <td>main</td>\n",
       "    </tr>\n",
       "    <tr>\n",
       "      <th>199678</th>\n",
       "      <td>2016273N13300</td>\n",
       "      <td>2016</td>\n",
       "      <td>14</td>\n",
       "      <td>NA</td>\n",
       "      <td>NA</td>\n",
       "      <td>MATTHEW</td>\n",
       "      <td>2016-10-10 00:00:00</td>\n",
       "      <td>ET</td>\n",
       "      <td>35.3</td>\n",
       "      <td>-71.1</td>\n",
       "      <td>55</td>\n",
       "      <td>990</td>\n",
       "      <td>atcf</td>\n",
       "      <td>64.412</td>\n",
       "      <td>71.294</td>\n",
       "      <td>main</td>\n",
       "    </tr>\n",
       "  </tbody>\n",
       "</table>\n",
       "</div>"
      ],
      "text/plain": [
       "           Serial_Num Season Num Basin Sub_basin     Name  \\\n",
       "199676  2016273N13300   2016  14    NA        NA  MATTHEW   \n",
       "199677  2016273N13300   2016  14    NA        NA  MATTHEW   \n",
       "199678  2016273N13300   2016  14    NA        NA  MATTHEW   \n",
       "\n",
       "                   ISO_time Nature Latitude Longitude Wind(WMO) Pres(WMO)  \\\n",
       "199676  2016-10-09 12:00:00     ET       35     -74.5        65       984   \n",
       "199677  2016-10-09 18:00:00     ET     35.2     -72.8        60       987   \n",
       "199678  2016-10-10 00:00:00     ET     35.3     -71.1        55       990   \n",
       "\n",
       "       Center Wind(WMO) Percentile Pres(WMO) Percentile Track_type  \n",
       "199676   atcf               74.042               78.971       main  \n",
       "199677   atcf               69.835               75.141       main  \n",
       "199678   atcf               64.412               71.294       main  "
      ]
     },
     "execution_count": 7,
     "metadata": {},
     "output_type": "execute_result"
    }
   ],
   "source": [
    "huricanes.tail(3)\n",
    "#This gives me the dates to look at ocean data for the effects of hurricanes. \n",
    "#storms tracked between the sc/ga coast at the south end\n",
    "#storms tracked between the nc/va coast at the north end\n"
   ]
  },
  {
   "cell_type": "markdown",
   "metadata": {
    "heading_collapsed": true
   },
   "source": [
    "# Pulling in Ocean sensor data and set up a time frame to train my models."
   ]
  },
  {
   "cell_type": "code",
   "execution_count": 8,
   "metadata": {
    "hidden": true
   },
   "outputs": [],
   "source": [
    "data2015 = pd.read_csv('data/SRH 2015 Pier Sonde Data.csv')"
   ]
  },
  {
   "cell_type": "code",
   "execution_count": 9,
   "metadata": {
    "hidden": true
   },
   "outputs": [],
   "source": [
    "data1_2016 = pd.read_csv('data/SRH 2016 Pier Sonde Data Jan-Jul 2016.csv')"
   ]
  },
  {
   "cell_type": "code",
   "execution_count": 10,
   "metadata": {
    "hidden": true
   },
   "outputs": [],
   "source": [
    "data2_2016 = pd.read_csv('data/SRH 2016 Pier Sonde Data Jul 2016-Feb 2017.csv')"
   ]
  },
  {
   "cell_type": "code",
   "execution_count": 11,
   "metadata": {
    "hidden": true,
    "scrolled": true
   },
   "outputs": [
    {
     "data": {
      "text/html": [
       "<div>\n",
       "<style scoped>\n",
       "    .dataframe tbody tr th:only-of-type {\n",
       "        vertical-align: middle;\n",
       "    }\n",
       "\n",
       "    .dataframe tbody tr th {\n",
       "        vertical-align: top;\n",
       "    }\n",
       "\n",
       "    .dataframe thead th {\n",
       "        text-align: right;\n",
       "    }\n",
       "</style>\n",
       "<table border=\"1\" class=\"dataframe\">\n",
       "  <thead>\n",
       "    <tr style=\"text-align: right;\">\n",
       "      <th></th>\n",
       "      <th>RowID</th>\n",
       "      <th>Station Code</th>\n",
       "      <th>DateTimeStamp</th>\n",
       "      <th>F_Record</th>\n",
       "      <th>Time(Fract.Sec)</th>\n",
       "      <th>SiteName</th>\n",
       "      <th>FaultCode</th>\n",
       "      <th>Battery</th>\n",
       "      <th>Temp</th>\n",
       "      <th>F_Temp</th>\n",
       "      <th>...</th>\n",
       "      <th>F_DO_mgl</th>\n",
       "      <th>pH</th>\n",
       "      <th>F_pH</th>\n",
       "      <th>pHmV</th>\n",
       "      <th>Turb</th>\n",
       "      <th>F_Turb</th>\n",
       "      <th>ChlFluor</th>\n",
       "      <th>F_ChlFluor</th>\n",
       "      <th>Depth</th>\n",
       "      <th>F_Depth</th>\n",
       "    </tr>\n",
       "  </thead>\n",
       "  <tbody>\n",
       "    <tr>\n",
       "      <th>20372</th>\n",
       "      <td>20374</td>\n",
       "      <td>noccmswq</td>\n",
       "      <td>01/15/2016 17:45</td>\n",
       "      <td></td>\n",
       "      <td>0.0</td>\n",
       "      <td>CMS Pier</td>\n",
       "      <td>0.0</td>\n",
       "      <td>5.8</td>\n",
       "      <td>12.8</td>\n",
       "      <td>0</td>\n",
       "      <td>...</td>\n",
       "      <td>0</td>\n",
       "      <td>NaN</td>\n",
       "      <td>&lt;0&gt; [SSM] (CCU)</td>\n",
       "      <td>14.2</td>\n",
       "      <td>5.0</td>\n",
       "      <td>0</td>\n",
       "      <td>2.38</td>\n",
       "      <td>0</td>\n",
       "      <td>1.92</td>\n",
       "      <td>0</td>\n",
       "    </tr>\n",
       "  </tbody>\n",
       "</table>\n",
       "<p>1 rows × 27 columns</p>\n",
       "</div>"
      ],
      "text/plain": [
       "       RowID Station Code     DateTimeStamp F_Record  Time(Fract.Sec)  \\\n",
       "20372  20374     noccmswq  01/15/2016 17:45                       0.0   \n",
       "\n",
       "       SiteName  FaultCode  Battery  Temp F_Temp  ...  F_DO_mgl  pH  \\\n",
       "20372  CMS Pier        0.0      5.8  12.8      0  ...         0 NaN   \n",
       "\n",
       "                  F_pH  pHmV  Turb F_Turb  ChlFluor F_ChlFluor  Depth F_Depth  \n",
       "20372  <0> [SSM] (CCU)  14.2   5.0      0      2.38          0   1.92       0  \n",
       "\n",
       "[1 rows x 27 columns]"
      ]
     },
     "execution_count": 11,
     "metadata": {},
     "output_type": "execute_result"
    }
   ],
   "source": [
    "data2015.tail(1) # to see the last observed date"
   ]
  },
  {
   "cell_type": "code",
   "execution_count": 12,
   "metadata": {
    "hidden": true,
    "scrolled": false
   },
   "outputs": [
    {
     "data": {
      "text/html": [
       "<div>\n",
       "<style scoped>\n",
       "    .dataframe tbody tr th:only-of-type {\n",
       "        vertical-align: middle;\n",
       "    }\n",
       "\n",
       "    .dataframe tbody tr th {\n",
       "        vertical-align: top;\n",
       "    }\n",
       "\n",
       "    .dataframe thead th {\n",
       "        text-align: right;\n",
       "    }\n",
       "</style>\n",
       "<table border=\"1\" class=\"dataframe\">\n",
       "  <thead>\n",
       "    <tr style=\"text-align: right;\">\n",
       "      <th></th>\n",
       "      <th>RowID</th>\n",
       "      <th>Station Code</th>\n",
       "      <th>DateTimeStamp</th>\n",
       "      <th>F_Record</th>\n",
       "      <th>Time(Fract.Sec)</th>\n",
       "      <th>SiteName</th>\n",
       "      <th>FaultCode</th>\n",
       "      <th>Battery</th>\n",
       "      <th>Temp</th>\n",
       "      <th>F_Temp</th>\n",
       "      <th>...</th>\n",
       "      <th>pH</th>\n",
       "      <th>F_pH</th>\n",
       "      <th>pHmV</th>\n",
       "      <th>Turb</th>\n",
       "      <th>F_Turb</th>\n",
       "      <th>ChlFluor</th>\n",
       "      <th>F_ChlFluor</th>\n",
       "      <th>Depth</th>\n",
       "      <th>F_Depth</th>\n",
       "      <th>VertPosm</th>\n",
       "    </tr>\n",
       "  </thead>\n",
       "  <tbody>\n",
       "    <tr>\n",
       "      <th>17284</th>\n",
       "      <td>17286</td>\n",
       "      <td>NOCCMSWQ</td>\n",
       "      <td>07/13/2016 19:00</td>\n",
       "      <td></td>\n",
       "      <td>0.0</td>\n",
       "      <td>CMS Pier</td>\n",
       "      <td>0.0</td>\n",
       "      <td>6.3</td>\n",
       "      <td>30.0</td>\n",
       "      <td>0</td>\n",
       "      <td>...</td>\n",
       "      <td>7.8</td>\n",
       "      <td>0</td>\n",
       "      <td>-81.9</td>\n",
       "      <td>9.0</td>\n",
       "      <td>0</td>\n",
       "      <td>9.43</td>\n",
       "      <td>0</td>\n",
       "      <td>1.82</td>\n",
       "      <td>0</td>\n",
       "      <td>NaN</td>\n",
       "    </tr>\n",
       "  </tbody>\n",
       "</table>\n",
       "<p>1 rows × 28 columns</p>\n",
       "</div>"
      ],
      "text/plain": [
       "       RowID Station Code     DateTimeStamp F_Record  Time(Fract.Sec)  \\\n",
       "17284  17286     NOCCMSWQ  07/13/2016 19:00                       0.0   \n",
       "\n",
       "       SiteName  FaultCode  Battery  Temp F_Temp  ...   pH F_pH  pHmV Turb  \\\n",
       "17284  CMS Pier        0.0      6.3  30.0      0  ...  7.8    0 -81.9  9.0   \n",
       "\n",
       "       F_Turb ChlFluor  F_ChlFluor Depth  F_Depth VertPosm  \n",
       "17284       0     9.43           0  1.82        0      NaN  \n",
       "\n",
       "[1 rows x 28 columns]"
      ]
     },
     "execution_count": 12,
     "metadata": {},
     "output_type": "execute_result"
    }
   ],
   "source": [
    "data1_2016.tail(1)"
   ]
  },
  {
   "cell_type": "code",
   "execution_count": 13,
   "metadata": {
    "hidden": true
   },
   "outputs": [
    {
     "data": {
      "text/plain": [
       "(17285, 28)"
      ]
     },
     "execution_count": 13,
     "metadata": {},
     "output_type": "execute_result"
    }
   ],
   "source": [
    "data1_2016.shape"
   ]
  },
  {
   "cell_type": "code",
   "execution_count": 14,
   "metadata": {
    "hidden": true
   },
   "outputs": [
    {
     "data": {
      "text/html": [
       "<div>\n",
       "<style scoped>\n",
       "    .dataframe tbody tr th:only-of-type {\n",
       "        vertical-align: middle;\n",
       "    }\n",
       "\n",
       "    .dataframe tbody tr th {\n",
       "        vertical-align: top;\n",
       "    }\n",
       "\n",
       "    .dataframe thead th {\n",
       "        text-align: right;\n",
       "    }\n",
       "</style>\n",
       "<table border=\"1\" class=\"dataframe\">\n",
       "  <thead>\n",
       "    <tr style=\"text-align: right;\">\n",
       "      <th></th>\n",
       "      <th>RowID</th>\n",
       "      <th>Station Code</th>\n",
       "      <th>DateTimeStamp</th>\n",
       "      <th>F_Record</th>\n",
       "      <th>Time(Fract.Sec)</th>\n",
       "      <th>SiteName</th>\n",
       "      <th>FaultCode</th>\n",
       "      <th>Battery</th>\n",
       "      <th>Temp</th>\n",
       "      <th>F_Temp</th>\n",
       "      <th>...</th>\n",
       "      <th>F_DO_mgl</th>\n",
       "      <th>pH</th>\n",
       "      <th>F_pH</th>\n",
       "      <th>pHmV</th>\n",
       "      <th>Turb</th>\n",
       "      <th>F_Turb</th>\n",
       "      <th>ChlFluor</th>\n",
       "      <th>F_ChlFluor</th>\n",
       "      <th>Depth</th>\n",
       "      <th>F_Depth</th>\n",
       "    </tr>\n",
       "  </thead>\n",
       "  <tbody>\n",
       "    <tr>\n",
       "      <th>20161</th>\n",
       "      <td>20163</td>\n",
       "      <td>NOCCMSWQ</td>\n",
       "      <td>02/08/2017 14:45</td>\n",
       "      <td></td>\n",
       "      <td>0.0</td>\n",
       "      <td>CMS Pier</td>\n",
       "      <td>0.0</td>\n",
       "      <td>6.1</td>\n",
       "      <td>14.5</td>\n",
       "      <td>0</td>\n",
       "      <td>...</td>\n",
       "      <td>0</td>\n",
       "      <td>8.0</td>\n",
       "      <td>0</td>\n",
       "      <td>-81.2</td>\n",
       "      <td>6.0</td>\n",
       "      <td>0</td>\n",
       "      <td>3.81</td>\n",
       "      <td>0</td>\n",
       "      <td>0.85</td>\n",
       "      <td>0</td>\n",
       "    </tr>\n",
       "  </tbody>\n",
       "</table>\n",
       "<p>1 rows × 27 columns</p>\n",
       "</div>"
      ],
      "text/plain": [
       "       RowID Station Code     DateTimeStamp F_Record  Time(Fract.Sec)  \\\n",
       "20161  20163     NOCCMSWQ  02/08/2017 14:45                       0.0   \n",
       "\n",
       "       SiteName  FaultCode  Battery  Temp F_Temp  ...  F_DO_mgl   pH  F_pH  \\\n",
       "20161  CMS Pier        0.0      6.1  14.5      0  ...         0  8.0     0   \n",
       "\n",
       "       pHmV  Turb F_Turb  ChlFluor F_ChlFluor  Depth F_Depth  \n",
       "20161 -81.2   6.0      0      3.81          0   0.85       0  \n",
       "\n",
       "[1 rows x 27 columns]"
      ]
     },
     "execution_count": 14,
     "metadata": {},
     "output_type": "execute_result"
    }
   ],
   "source": [
    "data2_2016.tail(1)#"
   ]
  },
  {
   "cell_type": "code",
   "execution_count": 15,
   "metadata": {
    "hidden": true
   },
   "outputs": [
    {
     "data": {
      "text/plain": [
       "(20162, 27)"
      ]
     },
     "execution_count": 15,
     "metadata": {},
     "output_type": "execute_result"
    }
   ],
   "source": [
    "data2_2016.shape"
   ]
  },
  {
   "cell_type": "code",
   "execution_count": 16,
   "metadata": {
    "hidden": true
   },
   "outputs": [
    {
     "data": {
      "text/plain": [
       "37447"
      ]
     },
     "execution_count": 16,
     "metadata": {},
     "output_type": "execute_result"
    }
   ],
   "source": [
    "17285 + 20162 # because I like to verify my work"
   ]
  },
  {
   "cell_type": "code",
   "execution_count": 17,
   "metadata": {
    "hidden": true
   },
   "outputs": [],
   "source": [
    "data2016 = pd.concat([data1_2016, data2_2016], sort=True)"
   ]
  },
  {
   "cell_type": "code",
   "execution_count": 18,
   "metadata": {
    "hidden": true
   },
   "outputs": [
    {
     "data": {
      "text/plain": [
       "(20373, 27)"
      ]
     },
     "execution_count": 18,
     "metadata": {},
     "output_type": "execute_result"
    }
   ],
   "source": [
    "# To see how many data points each file contains\n",
    "data2015.shape"
   ]
  },
  {
   "cell_type": "code",
   "execution_count": 19,
   "metadata": {
    "hidden": true
   },
   "outputs": [
    {
     "data": {
      "text/plain": [
       "(37447, 28)"
      ]
     },
     "execution_count": 19,
     "metadata": {},
     "output_type": "execute_result"
    }
   ],
   "source": [
    "data2016.shape # verified"
   ]
  },
  {
   "cell_type": "code",
   "execution_count": 20,
   "metadata": {
    "hidden": true
   },
   "outputs": [],
   "source": [
    "# There is other data available here, but I want to focus on the smaller set first"
   ]
  },
  {
   "cell_type": "code",
   "execution_count": 21,
   "metadata": {
    "hidden": true
   },
   "outputs": [],
   "source": [
    "unfin = pd.concat([data2015, data2016], sort=True) # This dataframe will be the one that I modify to make my final features."
   ]
  },
  {
   "cell_type": "code",
   "execution_count": 22,
   "metadata": {
    "hidden": true,
    "scrolled": true
   },
   "outputs": [
    {
     "data": {
      "text/html": [
       "<div>\n",
       "<style scoped>\n",
       "    .dataframe tbody tr th:only-of-type {\n",
       "        vertical-align: middle;\n",
       "    }\n",
       "\n",
       "    .dataframe tbody tr th {\n",
       "        vertical-align: top;\n",
       "    }\n",
       "\n",
       "    .dataframe thead th {\n",
       "        text-align: right;\n",
       "    }\n",
       "</style>\n",
       "<table border=\"1\" class=\"dataframe\">\n",
       "  <thead>\n",
       "    <tr style=\"text-align: right;\">\n",
       "      <th></th>\n",
       "      <th>Battery</th>\n",
       "      <th>ChlFluor</th>\n",
       "      <th>DO_mgl</th>\n",
       "      <th>DO_pct</th>\n",
       "      <th>DateTimeStamp</th>\n",
       "      <th>Depth</th>\n",
       "      <th>F_ChlFluor</th>\n",
       "      <th>F_DO_mgl</th>\n",
       "      <th>F_DO_pct</th>\n",
       "      <th>F_Depth</th>\n",
       "      <th>...</th>\n",
       "      <th>Sal</th>\n",
       "      <th>SiteName</th>\n",
       "      <th>SpCond</th>\n",
       "      <th>Station Code</th>\n",
       "      <th>Temp</th>\n",
       "      <th>Time(Fract.Sec)</th>\n",
       "      <th>Turb</th>\n",
       "      <th>VertPosm</th>\n",
       "      <th>pH</th>\n",
       "      <th>pHmV</th>\n",
       "    </tr>\n",
       "  </thead>\n",
       "  <tbody>\n",
       "    <tr>\n",
       "      <th>0</th>\n",
       "      <td>6.3</td>\n",
       "      <td>2.93</td>\n",
       "      <td>5.2</td>\n",
       "      <td>80.6</td>\n",
       "      <td>06/17/2015 12:45</td>\n",
       "      <td>1.71</td>\n",
       "      <td>&lt;0&gt; (CND)</td>\n",
       "      <td>&lt;0&gt; (CND)</td>\n",
       "      <td>&lt;0&gt; (CND)</td>\n",
       "      <td>&lt;0&gt; (CND)</td>\n",
       "      <td>...</td>\n",
       "      <td>34.7</td>\n",
       "      <td>CMS Pier</td>\n",
       "      <td>52.72</td>\n",
       "      <td>noccmswq</td>\n",
       "      <td>28.2</td>\n",
       "      <td>0.0</td>\n",
       "      <td>6.0</td>\n",
       "      <td>NaN</td>\n",
       "      <td>7.8</td>\n",
       "      <td>-57.3</td>\n",
       "    </tr>\n",
       "    <tr>\n",
       "      <th>1</th>\n",
       "      <td>6.3</td>\n",
       "      <td>2.28</td>\n",
       "      <td>5.3</td>\n",
       "      <td>83.0</td>\n",
       "      <td>06/17/2015 13:00</td>\n",
       "      <td>1.74</td>\n",
       "      <td>0</td>\n",
       "      <td>0</td>\n",
       "      <td>0</td>\n",
       "      <td>0</td>\n",
       "      <td>...</td>\n",
       "      <td>35.2</td>\n",
       "      <td>CMS Pier</td>\n",
       "      <td>53.44</td>\n",
       "      <td>noccmswq</td>\n",
       "      <td>28.0</td>\n",
       "      <td>0.0</td>\n",
       "      <td>6.0</td>\n",
       "      <td>NaN</td>\n",
       "      <td>7.8</td>\n",
       "      <td>-58.8</td>\n",
       "    </tr>\n",
       "  </tbody>\n",
       "</table>\n",
       "<p>2 rows × 28 columns</p>\n",
       "</div>"
      ],
      "text/plain": [
       "   Battery  ChlFluor  DO_mgl  DO_pct     DateTimeStamp  Depth F_ChlFluor  \\\n",
       "0      6.3      2.93     5.2    80.6  06/17/2015 12:45   1.71  <0> (CND)   \n",
       "1      6.3      2.28     5.3    83.0  06/17/2015 13:00   1.74          0   \n",
       "\n",
       "    F_DO_mgl   F_DO_pct    F_Depth  ...   Sal  SiteName SpCond Station Code  \\\n",
       "0  <0> (CND)  <0> (CND)  <0> (CND)  ...  34.7  CMS Pier  52.72     noccmswq   \n",
       "1          0          0          0  ...  35.2  CMS Pier  53.44     noccmswq   \n",
       "\n",
       "   Temp Time(Fract.Sec)  Turb  VertPosm   pH  pHmV  \n",
       "0  28.2             0.0   6.0       NaN  7.8 -57.3  \n",
       "1  28.0             0.0   6.0       NaN  7.8 -58.8  \n",
       "\n",
       "[2 rows x 28 columns]"
      ]
     },
     "execution_count": 22,
     "metadata": {},
     "output_type": "execute_result"
    }
   ],
   "source": [
    "unfin.head(2)"
   ]
  },
  {
   "cell_type": "code",
   "execution_count": 23,
   "metadata": {
    "hidden": true
   },
   "outputs": [
    {
     "data": {
      "text/plain": [
       "dtype('O')"
      ]
     },
     "execution_count": 23,
     "metadata": {},
     "output_type": "execute_result"
    }
   ],
   "source": [
    "# matching dates to huricane events to create ground-truth\n",
    "# find the format of DateTimeStamp\n",
    "unfin.DateTimeStamp.dtypes"
   ]
  },
  {
   "cell_type": "code",
   "execution_count": 24,
   "metadata": {
    "hidden": true
   },
   "outputs": [
    {
     "data": {
      "text/plain": [
       "dtype('O')"
      ]
     },
     "execution_count": 24,
     "metadata": {},
     "output_type": "execute_result"
    }
   ],
   "source": [
    "huricanes.ISO_time.dtypes"
   ]
  },
  {
   "cell_type": "code",
   "execution_count": 25,
   "metadata": {
    "hidden": true,
    "scrolled": true
   },
   "outputs": [
    {
     "name": "stderr",
     "output_type": "stream",
     "text": [
      "C:\\Users\\thatr\\Anaconda3\\lib\\site-packages\\ipykernel_launcher.py:1: SettingWithCopyWarning: \n",
      "A value is trying to be set on a copy of a slice from a DataFrame.\n",
      "Try using .loc[row_indexer,col_indexer] = value instead\n",
      "\n",
      "See the caveats in the documentation: http://pandas.pydata.org/pandas-docs/stable/indexing.html#indexing-view-versus-copy\n",
      "  \"\"\"Entry point for launching an IPython kernel.\n"
     ]
    }
   ],
   "source": [
    "huricanes['DateTime'] = pd.to_datetime(huricanes['ISO_time'])"
   ]
  },
  {
   "cell_type": "code",
   "execution_count": 26,
   "metadata": {
    "hidden": true
   },
   "outputs": [],
   "source": [
    "unfin['DateTime'] = pd.to_datetime(unfin['DateTimeStamp'])"
   ]
  },
  {
   "cell_type": "code",
   "execution_count": 27,
   "metadata": {
    "hidden": true
   },
   "outputs": [
    {
     "name": "stderr",
     "output_type": "stream",
     "text": [
      "C:\\Users\\thatr\\Anaconda3\\lib\\site-packages\\pandas\\core\\frame.py:3940: SettingWithCopyWarning: \n",
      "A value is trying to be set on a copy of a slice from a DataFrame\n",
      "\n",
      "See the caveats in the documentation: http://pandas.pydata.org/pandas-docs/stable/indexing.html#indexing-view-versus-copy\n",
      "  errors=errors)\n"
     ]
    }
   ],
   "source": [
    "#Drop the original Date Objects and leave only the date I created\n",
    "huricanes.drop(columns=['ISO_time'], inplace=True)"
   ]
  },
  {
   "cell_type": "code",
   "execution_count": 28,
   "metadata": {
    "hidden": true
   },
   "outputs": [],
   "source": [
    "unfin.drop(columns=['DateTimeStamp'], inplace=True)"
   ]
  },
  {
   "cell_type": "code",
   "execution_count": 29,
   "metadata": {
    "hidden": true,
    "scrolled": true
   },
   "outputs": [
    {
     "data": {
      "text/plain": [
       "Index(['Serial_Num', 'Season', 'Num', 'Basin', 'Sub_basin', 'Name', 'Nature',\n",
       "       'Latitude', 'Longitude', 'Wind(WMO)', 'Pres(WMO)', 'Center',\n",
       "       'Wind(WMO) Percentile', 'Pres(WMO) Percentile', 'Track_type',\n",
       "       'DateTime'],\n",
       "      dtype='object')"
      ]
     },
     "execution_count": 29,
     "metadata": {},
     "output_type": "execute_result"
    }
   ],
   "source": [
    "huricanes.columns"
   ]
  },
  {
   "cell_type": "code",
   "execution_count": 30,
   "metadata": {
    "hidden": true,
    "scrolled": false
   },
   "outputs": [
    {
     "data": {
      "text/plain": [
       "Index(['Battery', 'ChlFluor', 'DO_mgl', 'DO_pct', 'Depth', 'F_ChlFluor',\n",
       "       'F_DO_mgl', 'F_DO_pct', 'F_Depth', 'F_Record', 'F_Sal', 'F_SpCond',\n",
       "       'F_Temp', 'F_Turb', 'F_pH', 'FaultCode', 'RowID', 'Sal', 'SiteName',\n",
       "       'SpCond', 'Station Code', 'Temp', 'Time(Fract.Sec)', 'Turb', 'VertPosm',\n",
       "       'pH', 'pHmV', 'DateTime'],\n",
       "      dtype='object')"
      ]
     },
     "execution_count": 30,
     "metadata": {},
     "output_type": "execute_result"
    }
   ],
   "source": [
    "unfin.columns"
   ]
  },
  {
   "cell_type": "code",
   "execution_count": 31,
   "metadata": {
    "hidden": true
   },
   "outputs": [],
   "source": [
    "hy = huricanes.DateTime.dt.year\n",
    "hm = huricanes.DateTime.dt.month\n",
    "hd = huricanes.DateTime.dt.day"
   ]
  },
  {
   "cell_type": "code",
   "execution_count": 32,
   "metadata": {
    "hidden": true
   },
   "outputs": [],
   "source": [
    "uy = unfin.DateTime.dt.year\n",
    "um = unfin.DateTime.dt.month\n",
    "ud = unfin.DateTime.dt.day"
   ]
  },
  {
   "cell_type": "code",
   "execution_count": 33,
   "metadata": {
    "hidden": true
   },
   "outputs": [],
   "source": [
    "hdates = zip(hy, hm, hd) # huricane dates\n",
    "bdates = zip(hy, hm, hd) # bouy dates"
   ]
  },
  {
   "cell_type": "code",
   "execution_count": 34,
   "metadata": {
    "hidden": true
   },
   "outputs": [],
   "source": [
    "hdates = pd.DataFrame(hdates).astype(str)\n",
    "bdates = pd.DataFrame(bdates).astype(str)"
   ]
  },
  {
   "cell_type": "code",
   "execution_count": 35,
   "metadata": {
    "hidden": true
   },
   "outputs": [],
   "source": [
    "hdates['Date'] = hdates[hdates.columns[:]].apply(lambda x: ''.join(x), axis=1)\n",
    "bdates['Date'] = bdates[bdates.columns[:]].apply(lambda x: ''.join(x), axis=1)"
   ]
  },
  {
   "cell_type": "code",
   "execution_count": 36,
   "metadata": {
    "hidden": true,
    "scrolled": true
   },
   "outputs": [
    {
     "data": {
      "text/html": [
       "<div>\n",
       "<style scoped>\n",
       "    .dataframe tbody tr th:only-of-type {\n",
       "        vertical-align: middle;\n",
       "    }\n",
       "\n",
       "    .dataframe tbody tr th {\n",
       "        vertical-align: top;\n",
       "    }\n",
       "\n",
       "    .dataframe thead th {\n",
       "        text-align: right;\n",
       "    }\n",
       "</style>\n",
       "<table border=\"1\" class=\"dataframe\">\n",
       "  <thead>\n",
       "    <tr style=\"text-align: right;\">\n",
       "      <th></th>\n",
       "      <th>0</th>\n",
       "      <th>1</th>\n",
       "      <th>2</th>\n",
       "      <th>Date</th>\n",
       "    </tr>\n",
       "  </thead>\n",
       "  <tbody>\n",
       "    <tr>\n",
       "      <th>0</th>\n",
       "      <td>1851</td>\n",
       "      <td>8</td>\n",
       "      <td>25</td>\n",
       "      <td>1851825</td>\n",
       "    </tr>\n",
       "  </tbody>\n",
       "</table>\n",
       "</div>"
      ],
      "text/plain": [
       "      0  1   2     Date\n",
       "0  1851  8  25  1851825"
      ]
     },
     "execution_count": 36,
     "metadata": {},
     "output_type": "execute_result"
    }
   ],
   "source": [
    "hdates.head(1)"
   ]
  },
  {
   "cell_type": "code",
   "execution_count": 37,
   "metadata": {
    "hidden": true
   },
   "outputs": [
    {
     "name": "stderr",
     "output_type": "stream",
     "text": [
      "C:\\Users\\thatr\\Anaconda3\\lib\\site-packages\\ipykernel_launcher.py:1: SettingWithCopyWarning: \n",
      "A value is trying to be set on a copy of a slice from a DataFrame.\n",
      "Try using .loc[row_indexer,col_indexer] = value instead\n",
      "\n",
      "See the caveats in the documentation: http://pandas.pydata.org/pandas-docs/stable/indexing.html#indexing-view-versus-copy\n",
      "  \"\"\"Entry point for launching an IPython kernel.\n"
     ]
    }
   ],
   "source": [
    "huricanes['Date'] = hdates.Date.astype(int)\n",
    "unfin['Date'] = bdates.Date.astype(int)"
   ]
  },
  {
   "cell_type": "code",
   "execution_count": 38,
   "metadata": {
    "hidden": true
   },
   "outputs": [],
   "source": [
    "## trying to create a flag column for huricane event."
   ]
  },
  {
   "cell_type": "code",
   "execution_count": 39,
   "metadata": {
    "hidden": true
   },
   "outputs": [],
   "source": [
    "unfin['Huricane'] = unfin['Date'].isin(huricanes.Date) "
   ]
  },
  {
   "cell_type": "code",
   "execution_count": 40,
   "metadata": {
    "hidden": true
   },
   "outputs": [
    {
     "data": {
      "text/plain": [
       "51070"
      ]
     },
     "execution_count": 40,
     "metadata": {},
     "output_type": "execute_result"
    }
   ],
   "source": [
    "unfin.Huricane.sum()"
   ]
  },
  {
   "cell_type": "code",
   "execution_count": 41,
   "metadata": {
    "hidden": true
   },
   "outputs": [
    {
     "data": {
      "text/plain": [
       "(57820, 30)"
      ]
     },
     "execution_count": 41,
     "metadata": {},
     "output_type": "execute_result"
    }
   ],
   "source": [
    "unfin.shape"
   ]
  },
  {
   "cell_type": "code",
   "execution_count": 42,
   "metadata": {
    "hidden": true
   },
   "outputs": [
    {
     "data": {
      "text/plain": [
       "(2635, 17)"
      ]
     },
     "execution_count": 42,
     "metadata": {},
     "output_type": "execute_result"
    }
   ],
   "source": [
    "huricanes.shape"
   ]
  },
  {
   "cell_type": "markdown",
   "metadata": {
    "heading_collapsed": true
   },
   "source": [
    "# Now that I have the flag I need to decide which predictors to keep or drop"
   ]
  },
  {
   "cell_type": "code",
   "execution_count": 43,
   "metadata": {
    "hidden": true
   },
   "outputs": [
    {
     "data": {
      "text/plain": [
       "['Battery',\n",
       " 'ChlFluor',\n",
       " 'DO_mgl',\n",
       " 'DO_pct',\n",
       " 'Depth',\n",
       " 'F_ChlFluor',\n",
       " 'F_DO_mgl',\n",
       " 'F_DO_pct',\n",
       " 'F_Depth',\n",
       " 'F_Record',\n",
       " 'F_Sal',\n",
       " 'F_SpCond',\n",
       " 'F_Temp',\n",
       " 'F_Turb',\n",
       " 'F_pH',\n",
       " 'FaultCode',\n",
       " 'RowID',\n",
       " 'Sal',\n",
       " 'SiteName',\n",
       " 'SpCond',\n",
       " 'Station Code',\n",
       " 'Temp',\n",
       " 'Time(Fract.Sec)',\n",
       " 'Turb',\n",
       " 'VertPosm',\n",
       " 'pH',\n",
       " 'pHmV',\n",
       " 'DateTime',\n",
       " 'Date',\n",
       " 'Huricane']"
      ]
     },
     "execution_count": 43,
     "metadata": {},
     "output_type": "execute_result"
    }
   ],
   "source": [
    "unfin.columns.tolist()"
   ]
  },
  {
   "cell_type": "code",
   "execution_count": 197,
   "metadata": {
    "hidden": true
   },
   "outputs": [],
   "source": [
    "feats = unfin.drop(columns=['Date', 'Station Code', 'SiteName', 'RowID', 'FaultCode'])"
   ]
  },
  {
   "cell_type": "code",
   "execution_count": 198,
   "metadata": {
    "hidden": true
   },
   "outputs": [
    {
     "name": "stderr",
     "output_type": "stream",
     "text": [
      "C:\\Users\\thatr\\Anaconda3\\lib\\site-packages\\ipykernel_launcher.py:5: DeprecationWarning: \n",
      ".ix is deprecated. Please use\n",
      ".loc for label based indexing or\n",
      ".iloc for positional indexing\n",
      "\n",
      "See the documentation here:\n",
      "http://pandas.pydata.org/pandas-docs/stable/indexing.html#ix-indexer-is-deprecated\n",
      "  \"\"\"\n"
     ]
    }
   ],
   "source": [
    "#These values need to be dropped since they don't contain numeric data\n",
    "#Data was 0 or cond<1> and values or meaning was not clear- if I find a data\n",
    "#dictionary, I will add these back and adjust\n",
    "#5-14\n",
    "drop = feats.ix[:,5:15].columns.tolist()"
   ]
  },
  {
   "cell_type": "code",
   "execution_count": 199,
   "metadata": {
    "hidden": true
   },
   "outputs": [],
   "source": [
    "feats.drop(columns=drop, inplace=True)"
   ]
  },
  {
   "cell_type": "code",
   "execution_count": 200,
   "metadata": {
    "hidden": true
   },
   "outputs": [],
   "source": [
    "feats = feats.set_index('DateTime')"
   ]
  },
  {
   "cell_type": "code",
   "execution_count": 201,
   "metadata": {
    "hidden": true
   },
   "outputs": [],
   "source": [
    "col = feats.columns.tolist()"
   ]
  },
  {
   "cell_type": "code",
   "execution_count": 202,
   "metadata": {
    "hidden": true
   },
   "outputs": [
    {
     "name": "stdout",
     "output_type": "stream",
     "text": [
      "Battery 212\n",
      "ChlFluor 7213\n",
      "DO_mgl 2072\n",
      "DO_pct 2072\n",
      "Depth 793\n",
      "Sal 4228\n",
      "SpCond 3854\n",
      "Temp 788\n",
      "Time(Fract.Sec) 203\n",
      "Turb 3838\n",
      "VertPosm 49369\n",
      "pH 6565\n",
      "pHmV 212\n",
      "Huricane 0\n"
     ]
    }
   ],
   "source": [
    "#from this I can see that I may want to drop additional columns- but in \n",
    "#this case I will try a few different methods\n",
    "for c in col:\n",
    "    print(c, feats[c].isnull().sum())"
   ]
  },
  {
   "cell_type": "code",
   "execution_count": 207,
   "metadata": {
    "hidden": true
   },
   "outputs": [],
   "source": [
    "#This is by far the best feature set I have to model with - But i will still test others\n",
    "sBest = feats.copy()"
   ]
  },
  {
   "cell_type": "code",
   "execution_count": 208,
   "metadata": {
    "hidden": true
   },
   "outputs": [],
   "source": [
    "sBest.drop(columns=['VertPosm', 'Battery'], inplace=True)"
   ]
  },
  {
   "cell_type": "code",
   "execution_count": 209,
   "metadata": {
    "hidden": true
   },
   "outputs": [
    {
     "data": {
      "text/plain": [
       "(57820, 12)"
      ]
     },
     "execution_count": 209,
     "metadata": {},
     "output_type": "execute_result"
    }
   ],
   "source": [
    "sBest.shape"
   ]
  },
  {
   "cell_type": "code",
   "execution_count": 213,
   "metadata": {
    "hidden": true
   },
   "outputs": [],
   "source": [
    "sBest = sBest.dropna();"
   ]
  },
  {
   "cell_type": "code",
   "execution_count": 214,
   "metadata": {
    "hidden": true
   },
   "outputs": [
    {
     "data": {
      "text/plain": [
       "(42036, 12)"
      ]
     },
     "execution_count": 214,
     "metadata": {},
     "output_type": "execute_result"
    }
   ],
   "source": [
    "sBest.shape"
   ]
  },
  {
   "cell_type": "code",
   "execution_count": 50,
   "metadata": {
    "hidden": true
   },
   "outputs": [
    {
     "data": {
      "text/plain": [
       "(57820, 14)"
      ]
     },
     "execution_count": 50,
     "metadata": {},
     "output_type": "execute_result"
    }
   ],
   "source": [
    "feats.shape"
   ]
  },
  {
   "cell_type": "code",
   "execution_count": 51,
   "metadata": {
    "hidden": true
   },
   "outputs": [],
   "source": [
    "feats_Zeros = feats.fillna(0)\n",
    "#After looking at the data I have decided it is better to drop the na's"
   ]
  },
  {
   "cell_type": "code",
   "execution_count": 52,
   "metadata": {
    "hidden": true
   },
   "outputs": [
    {
     "data": {
      "text/plain": [
       "(57820, 14)"
      ]
     },
     "execution_count": 52,
     "metadata": {},
     "output_type": "execute_result"
    }
   ],
   "source": [
    "feats_Zeros.shape"
   ]
  },
  {
   "cell_type": "code",
   "execution_count": 53,
   "metadata": {
    "hidden": true
   },
   "outputs": [],
   "source": [
    "feats_sparse = feats.dropna()"
   ]
  },
  {
   "cell_type": "code",
   "execution_count": 54,
   "metadata": {
    "hidden": true
   },
   "outputs": [
    {
     "data": {
      "text/plain": [
       "(4109, 14)"
      ]
     },
     "execution_count": 54,
     "metadata": {},
     "output_type": "execute_result"
    }
   ],
   "source": [
    "feats_sparse.shape"
   ]
  },
  {
   "cell_type": "code",
   "execution_count": 55,
   "metadata": {
    "hidden": true,
    "scrolled": true
   },
   "outputs": [
    {
     "name": "stderr",
     "output_type": "stream",
     "text": [
      "C:\\Users\\thatr\\AppData\\Roaming\\Python\\Python36\\site-packages\\scipy\\interpolate\\polyint.py:511: RuntimeWarning: overflow encountered in multiply\n",
      "  self.wi[:j] *= (self.xi[j]-self.xi[:j])\n",
      "C:\\Users\\thatr\\AppData\\Roaming\\Python\\Python36\\site-packages\\scipy\\interpolate\\polyint.py:513: RuntimeWarning: divide by zero encountered in reciprocal\n",
      "  self.wi **= -1\n",
      "C:\\Users\\thatr\\AppData\\Roaming\\Python\\Python36\\site-packages\\numpy\\core\\fromnumeric.py:83: RuntimeWarning: invalid value encountered in reduce\n",
      "  return ufunc.reduce(obj, axis, dtype, out, **passkwargs)\n",
      "C:\\Users\\thatr\\AppData\\Roaming\\Python\\Python36\\site-packages\\scipy\\interpolate\\polyint.py:609: RuntimeWarning: invalid value encountered in true_divide\n",
      "  p = np.dot(c,self.yi)/np.sum(c,axis=-1)[...,np.newaxis]\n"
     ]
    }
   ],
   "source": [
    "# Potentially Need to use a technique like bootstrapping to address missing values.\n",
    "feats_filled = feats.interpolate(method='barycentric', limit_direction ='forward')"
   ]
  },
  {
   "cell_type": "code",
   "execution_count": 56,
   "metadata": {
    "hidden": true
   },
   "outputs": [
    {
     "data": {
      "text/plain": [
       "(57820, 14)"
      ]
     },
     "execution_count": 56,
     "metadata": {},
     "output_type": "execute_result"
    }
   ],
   "source": [
    "feats_filled.shape"
   ]
  },
  {
   "cell_type": "code",
   "execution_count": 57,
   "metadata": {
    "hidden": true
   },
   "outputs": [],
   "source": [
    "feats_vertZero = feats.copy()"
   ]
  },
  {
   "cell_type": "code",
   "execution_count": 215,
   "metadata": {
    "hidden": true
   },
   "outputs": [],
   "source": [
    "feats_vertZero = feats_vertZero.VertPosm.fillna(0);"
   ]
  },
  {
   "cell_type": "code",
   "execution_count": 59,
   "metadata": {
    "hidden": true
   },
   "outputs": [],
   "source": [
    "feats_vertZero.dropna(inplace=True)"
   ]
  },
  {
   "cell_type": "code",
   "execution_count": 60,
   "metadata": {
    "hidden": true
   },
   "outputs": [
    {
     "data": {
      "text/plain": [
       "(4109, 14)"
      ]
     },
     "execution_count": 60,
     "metadata": {},
     "output_type": "execute_result"
    }
   ],
   "source": [
    "feats_vertZero.shape"
   ]
  },
  {
   "cell_type": "code",
   "execution_count": 61,
   "metadata": {
    "hidden": true,
    "scrolled": true
   },
   "outputs": [
    {
     "data": {
      "text/html": [
       "<div>\n",
       "<style scoped>\n",
       "    .dataframe tbody tr th:only-of-type {\n",
       "        vertical-align: middle;\n",
       "    }\n",
       "\n",
       "    .dataframe tbody tr th {\n",
       "        vertical-align: top;\n",
       "    }\n",
       "\n",
       "    .dataframe thead th {\n",
       "        text-align: right;\n",
       "    }\n",
       "</style>\n",
       "<table border=\"1\" class=\"dataframe\">\n",
       "  <thead>\n",
       "    <tr style=\"text-align: right;\">\n",
       "      <th></th>\n",
       "      <th>Battery</th>\n",
       "      <th>ChlFluor</th>\n",
       "      <th>DO_mgl</th>\n",
       "      <th>DO_pct</th>\n",
       "      <th>Depth</th>\n",
       "      <th>Sal</th>\n",
       "      <th>SpCond</th>\n",
       "      <th>Temp</th>\n",
       "      <th>Time(Fract.Sec)</th>\n",
       "      <th>Turb</th>\n",
       "      <th>VertPosm</th>\n",
       "      <th>pH</th>\n",
       "      <th>pHmV</th>\n",
       "      <th>Huricane</th>\n",
       "    </tr>\n",
       "    <tr>\n",
       "      <th>DateTime</th>\n",
       "      <th></th>\n",
       "      <th></th>\n",
       "      <th></th>\n",
       "      <th></th>\n",
       "      <th></th>\n",
       "      <th></th>\n",
       "      <th></th>\n",
       "      <th></th>\n",
       "      <th></th>\n",
       "      <th></th>\n",
       "      <th></th>\n",
       "      <th></th>\n",
       "      <th></th>\n",
       "      <th></th>\n",
       "    </tr>\n",
       "  </thead>\n",
       "  <tbody>\n",
       "    <tr>\n",
       "      <th>2016-01-15 18:00:00</th>\n",
       "      <td>5.8</td>\n",
       "      <td>2.81</td>\n",
       "      <td>8.3</td>\n",
       "      <td>96.5</td>\n",
       "      <td>1.91</td>\n",
       "      <td>33.5</td>\n",
       "      <td>51.05</td>\n",
       "      <td>12.9</td>\n",
       "      <td>0.0</td>\n",
       "      <td>2.0</td>\n",
       "      <td>1.904</td>\n",
       "      <td>8.0</td>\n",
       "      <td>-88.2</td>\n",
       "      <td>False</td>\n",
       "    </tr>\n",
       "    <tr>\n",
       "      <th>2016-01-15 18:15:00</th>\n",
       "      <td>5.8</td>\n",
       "      <td>2.79</td>\n",
       "      <td>8.5</td>\n",
       "      <td>97.0</td>\n",
       "      <td>1.85</td>\n",
       "      <td>32.5</td>\n",
       "      <td>49.80</td>\n",
       "      <td>12.3</td>\n",
       "      <td>0.0</td>\n",
       "      <td>2.0</td>\n",
       "      <td>1.852</td>\n",
       "      <td>8.0</td>\n",
       "      <td>-89.3</td>\n",
       "      <td>False</td>\n",
       "    </tr>\n",
       "    <tr>\n",
       "      <th>2016-01-15 18:30:00</th>\n",
       "      <td>5.8</td>\n",
       "      <td>2.16</td>\n",
       "      <td>8.5</td>\n",
       "      <td>96.7</td>\n",
       "      <td>1.79</td>\n",
       "      <td>31.7</td>\n",
       "      <td>48.69</td>\n",
       "      <td>12.0</td>\n",
       "      <td>0.0</td>\n",
       "      <td>2.0</td>\n",
       "      <td>1.787</td>\n",
       "      <td>8.0</td>\n",
       "      <td>-89.2</td>\n",
       "      <td>False</td>\n",
       "    </tr>\n",
       "    <tr>\n",
       "      <th>2016-01-15 18:45:00</th>\n",
       "      <td>5.8</td>\n",
       "      <td>2.23</td>\n",
       "      <td>8.6</td>\n",
       "      <td>95.9</td>\n",
       "      <td>1.73</td>\n",
       "      <td>30.1</td>\n",
       "      <td>46.42</td>\n",
       "      <td>11.7</td>\n",
       "      <td>0.0</td>\n",
       "      <td>2.0</td>\n",
       "      <td>1.732</td>\n",
       "      <td>8.0</td>\n",
       "      <td>-88.9</td>\n",
       "      <td>False</td>\n",
       "    </tr>\n",
       "    <tr>\n",
       "      <th>2016-01-15 19:00:00</th>\n",
       "      <td>5.8</td>\n",
       "      <td>2.68</td>\n",
       "      <td>8.8</td>\n",
       "      <td>96.2</td>\n",
       "      <td>1.68</td>\n",
       "      <td>28.4</td>\n",
       "      <td>44.05</td>\n",
       "      <td>11.6</td>\n",
       "      <td>0.0</td>\n",
       "      <td>3.0</td>\n",
       "      <td>1.674</td>\n",
       "      <td>8.0</td>\n",
       "      <td>-88.5</td>\n",
       "      <td>False</td>\n",
       "    </tr>\n",
       "  </tbody>\n",
       "</table>\n",
       "</div>"
      ],
      "text/plain": [
       "                     Battery  ChlFluor  DO_mgl  DO_pct  Depth   Sal  SpCond  \\\n",
       "DateTime                                                                      \n",
       "2016-01-15 18:00:00      5.8      2.81     8.3    96.5   1.91  33.5   51.05   \n",
       "2016-01-15 18:15:00      5.8      2.79     8.5    97.0   1.85  32.5   49.80   \n",
       "2016-01-15 18:30:00      5.8      2.16     8.5    96.7   1.79  31.7   48.69   \n",
       "2016-01-15 18:45:00      5.8      2.23     8.6    95.9   1.73  30.1   46.42   \n",
       "2016-01-15 19:00:00      5.8      2.68     8.8    96.2   1.68  28.4   44.05   \n",
       "\n",
       "                     Temp  Time(Fract.Sec)  Turb  VertPosm   pH  pHmV  \\\n",
       "DateTime                                                                \n",
       "2016-01-15 18:00:00  12.9              0.0   2.0     1.904  8.0 -88.2   \n",
       "2016-01-15 18:15:00  12.3              0.0   2.0     1.852  8.0 -89.3   \n",
       "2016-01-15 18:30:00  12.0              0.0   2.0     1.787  8.0 -89.2   \n",
       "2016-01-15 18:45:00  11.7              0.0   2.0     1.732  8.0 -88.9   \n",
       "2016-01-15 19:00:00  11.6              0.0   3.0     1.674  8.0 -88.5   \n",
       "\n",
       "                     Huricane  \n",
       "DateTime                       \n",
       "2016-01-15 18:00:00     False  \n",
       "2016-01-15 18:15:00     False  \n",
       "2016-01-15 18:30:00     False  \n",
       "2016-01-15 18:45:00     False  \n",
       "2016-01-15 19:00:00     False  "
      ]
     },
     "execution_count": 61,
     "metadata": {},
     "output_type": "execute_result"
    }
   ],
   "source": [
    "feats_vertZero.head()"
   ]
  },
  {
   "cell_type": "code",
   "execution_count": 62,
   "metadata": {
    "hidden": true
   },
   "outputs": [],
   "source": [
    "## This is basically the same as the sBest data from above\n",
    "test = feats.drop(columns='VertPosm')"
   ]
  },
  {
   "cell_type": "code",
   "execution_count": 63,
   "metadata": {
    "hidden": true
   },
   "outputs": [
    {
     "data": {
      "text/plain": [
       "(57820, 13)"
      ]
     },
     "execution_count": 63,
     "metadata": {},
     "output_type": "execute_result"
    }
   ],
   "source": [
    "test.shape"
   ]
  },
  {
   "cell_type": "code",
   "execution_count": 64,
   "metadata": {
    "hidden": true
   },
   "outputs": [],
   "source": [
    "test.dropna(inplace=True)"
   ]
  },
  {
   "cell_type": "code",
   "execution_count": 65,
   "metadata": {
    "hidden": true
   },
   "outputs": [
    {
     "data": {
      "text/plain": [
       "(42036, 13)"
      ]
     },
     "execution_count": 65,
     "metadata": {},
     "output_type": "execute_result"
    }
   ],
   "source": [
    "test.shape"
   ]
  },
  {
   "cell_type": "code",
   "execution_count": 66,
   "metadata": {
    "hidden": true
   },
   "outputs": [],
   "source": [
    "col2 = test.columns.tolist()"
   ]
  },
  {
   "cell_type": "code",
   "execution_count": 67,
   "metadata": {
    "hidden": true
   },
   "outputs": [
    {
     "name": "stdout",
     "output_type": "stream",
     "text": [
      "Battery 0\n",
      "ChlFluor 0\n",
      "DO_mgl 0\n",
      "DO_pct 0\n",
      "Depth 0\n",
      "Sal 0\n",
      "SpCond 0\n",
      "Temp 0\n",
      "Time(Fract.Sec) 0\n",
      "Turb 0\n",
      "pH 0\n",
      "pHmV 0\n",
      "Huricane 0\n"
     ]
    }
   ],
   "source": [
    "for c in col2:\n",
    "    print(c, test[c].isnull().sum())"
   ]
  },
  {
   "cell_type": "code",
   "execution_count": 68,
   "metadata": {
    "hidden": true,
    "scrolled": true
   },
   "outputs": [
    {
     "name": "stdout",
     "output_type": "stream",
     "text": [
      "Battery 212\n",
      "ChlFluor 7213\n",
      "DO_mgl 2072\n",
      "DO_pct 2072\n",
      "Depth 793\n",
      "Sal 4228\n",
      "SpCond 3854\n",
      "Temp 788\n",
      "Time(Fract.Sec) 203\n",
      "Turb 3838\n",
      "VertPosm 49369\n",
      "pH 6565\n",
      "pHmV 212\n",
      "Huricane 0\n"
     ]
    }
   ],
   "source": [
    "for c in col:\n",
    "    print(c, feats[c].isnull().sum())"
   ]
  },
  {
   "cell_type": "code",
   "execution_count": 170,
   "metadata": {
    "hidden": true
   },
   "outputs": [],
   "source": [
    "newData = feats_sparse.copy()"
   ]
  },
  {
   "cell_type": "code",
   "execution_count": 82,
   "metadata": {
    "hidden": true
   },
   "outputs": [
    {
     "data": {
      "text/plain": [
       "(4109, 14)"
      ]
     },
     "execution_count": 82,
     "metadata": {},
     "output_type": "execute_result"
    }
   ],
   "source": [
    "newData.shape"
   ]
  },
  {
   "cell_type": "code",
   "execution_count": 84,
   "metadata": {
    "hidden": true
   },
   "outputs": [],
   "source": [
    "# Resampling data on weekly freq - This gives me missing values filled in with the mean from existing data\n",
    "sampleData = newData.resample('W').mean()"
   ]
  },
  {
   "cell_type": "code",
   "execution_count": 89,
   "metadata": {
    "hidden": true,
    "scrolled": true
   },
   "outputs": [
    {
     "data": {
      "text/html": [
       "<div>\n",
       "<style scoped>\n",
       "    .dataframe tbody tr th:only-of-type {\n",
       "        vertical-align: middle;\n",
       "    }\n",
       "\n",
       "    .dataframe tbody tr th {\n",
       "        vertical-align: top;\n",
       "    }\n",
       "\n",
       "    .dataframe thead th {\n",
       "        text-align: right;\n",
       "    }\n",
       "</style>\n",
       "<table border=\"1\" class=\"dataframe\">\n",
       "  <thead>\n",
       "    <tr style=\"text-align: right;\">\n",
       "      <th></th>\n",
       "      <th>Battery</th>\n",
       "      <th>ChlFluor</th>\n",
       "      <th>DO_mgl</th>\n",
       "      <th>DO_pct</th>\n",
       "      <th>Depth</th>\n",
       "      <th>Sal</th>\n",
       "      <th>SpCond</th>\n",
       "      <th>Temp</th>\n",
       "      <th>Time(Fract.Sec)</th>\n",
       "      <th>Turb</th>\n",
       "      <th>VertPosm</th>\n",
       "      <th>pH</th>\n",
       "      <th>pHmV</th>\n",
       "      <th>Huricane</th>\n",
       "    </tr>\n",
       "    <tr>\n",
       "      <th>DateTime</th>\n",
       "      <th></th>\n",
       "      <th></th>\n",
       "      <th></th>\n",
       "      <th></th>\n",
       "      <th></th>\n",
       "      <th></th>\n",
       "      <th></th>\n",
       "      <th></th>\n",
       "      <th></th>\n",
       "      <th></th>\n",
       "      <th></th>\n",
       "      <th></th>\n",
       "      <th></th>\n",
       "      <th></th>\n",
       "    </tr>\n",
       "  </thead>\n",
       "  <tbody>\n",
       "    <tr>\n",
       "      <th>2016-01-17</th>\n",
       "      <td>5.800000</td>\n",
       "      <td>3.752407</td>\n",
       "      <td>8.811111</td>\n",
       "      <td>94.530093</td>\n",
       "      <td>1.076620</td>\n",
       "      <td>21.965278</td>\n",
       "      <td>34.833519</td>\n",
       "      <td>12.360185</td>\n",
       "      <td>0.0</td>\n",
       "      <td>7.574074</td>\n",
       "      <td>1.075898</td>\n",
       "      <td>7.855556</td>\n",
       "      <td>-82.286574</td>\n",
       "      <td>0.166667</td>\n",
       "    </tr>\n",
       "    <tr>\n",
       "      <th>2016-01-24</th>\n",
       "      <td>5.802083</td>\n",
       "      <td>3.223676</td>\n",
       "      <td>9.369048</td>\n",
       "      <td>95.407143</td>\n",
       "      <td>1.200685</td>\n",
       "      <td>26.870685</td>\n",
       "      <td>42.130298</td>\n",
       "      <td>8.629613</td>\n",
       "      <td>0.0</td>\n",
       "      <td>5.690476</td>\n",
       "      <td>1.200354</td>\n",
       "      <td>7.932887</td>\n",
       "      <td>-86.365179</td>\n",
       "      <td>0.144345</td>\n",
       "    </tr>\n",
       "    <tr>\n",
       "      <th>2016-01-31</th>\n",
       "      <td>5.800744</td>\n",
       "      <td>5.415848</td>\n",
       "      <td>9.647917</td>\n",
       "      <td>101.710863</td>\n",
       "      <td>1.348185</td>\n",
       "      <td>27.249702</td>\n",
       "      <td>42.565372</td>\n",
       "      <td>10.043155</td>\n",
       "      <td>0.0</td>\n",
       "      <td>3.464286</td>\n",
       "      <td>1.347537</td>\n",
       "      <td>7.981250</td>\n",
       "      <td>-88.346577</td>\n",
       "      <td>0.116071</td>\n",
       "    </tr>\n",
       "    <tr>\n",
       "      <th>2016-02-14</th>\n",
       "      <td>5.863684</td>\n",
       "      <td>2.587474</td>\n",
       "      <td>9.827895</td>\n",
       "      <td>98.336316</td>\n",
       "      <td>1.382632</td>\n",
       "      <td>26.247632</td>\n",
       "      <td>41.268974</td>\n",
       "      <td>8.028158</td>\n",
       "      <td>0.0</td>\n",
       "      <td>4.028947</td>\n",
       "      <td>1.382226</td>\n",
       "      <td>7.972105</td>\n",
       "      <td>-88.031842</td>\n",
       "      <td>0.731579</td>\n",
       "    </tr>\n",
       "    <tr>\n",
       "      <th>2016-02-21</th>\n",
       "      <td>5.809285</td>\n",
       "      <td>8.473516</td>\n",
       "      <td>9.694673</td>\n",
       "      <td>99.917504</td>\n",
       "      <td>1.242055</td>\n",
       "      <td>24.676408</td>\n",
       "      <td>38.926667</td>\n",
       "      <td>9.791020</td>\n",
       "      <td>0.0</td>\n",
       "      <td>9.695586</td>\n",
       "      <td>1.241556</td>\n",
       "      <td>7.979300</td>\n",
       "      <td>-80.397869</td>\n",
       "      <td>1.000000</td>\n",
       "    </tr>\n",
       "    <tr>\n",
       "      <th>2016-02-28</th>\n",
       "      <td>5.800000</td>\n",
       "      <td>2.949940</td>\n",
       "      <td>9.296875</td>\n",
       "      <td>98.643601</td>\n",
       "      <td>1.173512</td>\n",
       "      <td>21.732589</td>\n",
       "      <td>34.517991</td>\n",
       "      <td>11.939435</td>\n",
       "      <td>0.0</td>\n",
       "      <td>11.553571</td>\n",
       "      <td>1.172927</td>\n",
       "      <td>8.025893</td>\n",
       "      <td>-77.784673</td>\n",
       "      <td>1.000000</td>\n",
       "    </tr>\n",
       "    <tr>\n",
       "      <th>2016-03-06</th>\n",
       "      <td>5.800000</td>\n",
       "      <td>5.355982</td>\n",
       "      <td>9.440181</td>\n",
       "      <td>100.432628</td>\n",
       "      <td>1.181918</td>\n",
       "      <td>20.218127</td>\n",
       "      <td>32.211737</td>\n",
       "      <td>12.468278</td>\n",
       "      <td>0.0</td>\n",
       "      <td>9.131420</td>\n",
       "      <td>1.181615</td>\n",
       "      <td>8.093202</td>\n",
       "      <td>-81.207704</td>\n",
       "      <td>1.000000</td>\n",
       "    </tr>\n",
       "    <tr>\n",
       "      <th>2016-03-13</th>\n",
       "      <td>5.800000</td>\n",
       "      <td>4.735169</td>\n",
       "      <td>9.135955</td>\n",
       "      <td>103.374157</td>\n",
       "      <td>1.348427</td>\n",
       "      <td>27.184831</td>\n",
       "      <td>42.300449</td>\n",
       "      <td>13.309551</td>\n",
       "      <td>0.0</td>\n",
       "      <td>7.151685</td>\n",
       "      <td>1.347708</td>\n",
       "      <td>8.115169</td>\n",
       "      <td>-83.852247</td>\n",
       "      <td>1.000000</td>\n",
       "    </tr>\n",
       "  </tbody>\n",
       "</table>\n",
       "</div>"
      ],
      "text/plain": [
       "             Battery  ChlFluor    DO_mgl      DO_pct     Depth        Sal  \\\n",
       "DateTime                                                                    \n",
       "2016-01-17  5.800000  3.752407  8.811111   94.530093  1.076620  21.965278   \n",
       "2016-01-24  5.802083  3.223676  9.369048   95.407143  1.200685  26.870685   \n",
       "2016-01-31  5.800744  5.415848  9.647917  101.710863  1.348185  27.249702   \n",
       "2016-02-14  5.863684  2.587474  9.827895   98.336316  1.382632  26.247632   \n",
       "2016-02-21  5.809285  8.473516  9.694673   99.917504  1.242055  24.676408   \n",
       "2016-02-28  5.800000  2.949940  9.296875   98.643601  1.173512  21.732589   \n",
       "2016-03-06  5.800000  5.355982  9.440181  100.432628  1.181918  20.218127   \n",
       "2016-03-13  5.800000  4.735169  9.135955  103.374157  1.348427  27.184831   \n",
       "\n",
       "               SpCond       Temp  Time(Fract.Sec)       Turb  VertPosm  \\\n",
       "DateTime                                                                 \n",
       "2016-01-17  34.833519  12.360185              0.0   7.574074  1.075898   \n",
       "2016-01-24  42.130298   8.629613              0.0   5.690476  1.200354   \n",
       "2016-01-31  42.565372  10.043155              0.0   3.464286  1.347537   \n",
       "2016-02-14  41.268974   8.028158              0.0   4.028947  1.382226   \n",
       "2016-02-21  38.926667   9.791020              0.0   9.695586  1.241556   \n",
       "2016-02-28  34.517991  11.939435              0.0  11.553571  1.172927   \n",
       "2016-03-06  32.211737  12.468278              0.0   9.131420  1.181615   \n",
       "2016-03-13  42.300449  13.309551              0.0   7.151685  1.347708   \n",
       "\n",
       "                  pH       pHmV  Huricane  \n",
       "DateTime                                   \n",
       "2016-01-17  7.855556 -82.286574  0.166667  \n",
       "2016-01-24  7.932887 -86.365179  0.144345  \n",
       "2016-01-31  7.981250 -88.346577  0.116071  \n",
       "2016-02-14  7.972105 -88.031842  0.731579  \n",
       "2016-02-21  7.979300 -80.397869  1.000000  \n",
       "2016-02-28  8.025893 -77.784673  1.000000  \n",
       "2016-03-06  8.093202 -81.207704  1.000000  \n",
       "2016-03-13  8.115169 -83.852247  1.000000  "
      ]
     },
     "execution_count": 89,
     "metadata": {},
     "output_type": "execute_result"
    }
   ],
   "source": [
    "sampleData.dropna();"
   ]
  },
  {
   "cell_type": "code",
   "execution_count": 91,
   "metadata": {
    "hidden": true
   },
   "outputs": [],
   "source": [
    "newData = pd.concat([newData, sampleData])"
   ]
  },
  {
   "cell_type": "code",
   "execution_count": 93,
   "metadata": {
    "hidden": true
   },
   "outputs": [],
   "source": [
    "sampleData = newData.resample('W').mean()"
   ]
  },
  {
   "cell_type": "code",
   "execution_count": 95,
   "metadata": {
    "hidden": true,
    "scrolled": true
   },
   "outputs": [
    {
     "data": {
      "text/html": [
       "<div>\n",
       "<style scoped>\n",
       "    .dataframe tbody tr th:only-of-type {\n",
       "        vertical-align: middle;\n",
       "    }\n",
       "\n",
       "    .dataframe tbody tr th {\n",
       "        vertical-align: top;\n",
       "    }\n",
       "\n",
       "    .dataframe thead th {\n",
       "        text-align: right;\n",
       "    }\n",
       "</style>\n",
       "<table border=\"1\" class=\"dataframe\">\n",
       "  <thead>\n",
       "    <tr style=\"text-align: right;\">\n",
       "      <th></th>\n",
       "      <th>Battery</th>\n",
       "      <th>ChlFluor</th>\n",
       "      <th>DO_mgl</th>\n",
       "      <th>DO_pct</th>\n",
       "      <th>Depth</th>\n",
       "      <th>Sal</th>\n",
       "      <th>SpCond</th>\n",
       "      <th>Temp</th>\n",
       "      <th>Time(Fract.Sec)</th>\n",
       "      <th>Turb</th>\n",
       "      <th>VertPosm</th>\n",
       "      <th>pH</th>\n",
       "      <th>pHmV</th>\n",
       "      <th>Huricane</th>\n",
       "    </tr>\n",
       "    <tr>\n",
       "      <th>DateTime</th>\n",
       "      <th></th>\n",
       "      <th></th>\n",
       "      <th></th>\n",
       "      <th></th>\n",
       "      <th></th>\n",
       "      <th></th>\n",
       "      <th></th>\n",
       "      <th></th>\n",
       "      <th></th>\n",
       "      <th></th>\n",
       "      <th></th>\n",
       "      <th></th>\n",
       "      <th></th>\n",
       "      <th></th>\n",
       "    </tr>\n",
       "  </thead>\n",
       "  <tbody>\n",
       "    <tr>\n",
       "      <th>2016-01-17</th>\n",
       "      <td>5.800000</td>\n",
       "      <td>3.752407</td>\n",
       "      <td>8.811111</td>\n",
       "      <td>94.530093</td>\n",
       "      <td>1.076620</td>\n",
       "      <td>21.965278</td>\n",
       "      <td>34.833519</td>\n",
       "      <td>12.360185</td>\n",
       "      <td>0.0</td>\n",
       "      <td>7.574074</td>\n",
       "      <td>1.075898</td>\n",
       "      <td>7.855556</td>\n",
       "      <td>-82.286574</td>\n",
       "      <td>0.166667</td>\n",
       "    </tr>\n",
       "    <tr>\n",
       "      <th>2016-01-24</th>\n",
       "      <td>5.802083</td>\n",
       "      <td>3.223676</td>\n",
       "      <td>9.369048</td>\n",
       "      <td>95.407143</td>\n",
       "      <td>1.200685</td>\n",
       "      <td>26.870685</td>\n",
       "      <td>42.130298</td>\n",
       "      <td>8.629613</td>\n",
       "      <td>0.0</td>\n",
       "      <td>5.690476</td>\n",
       "      <td>1.200354</td>\n",
       "      <td>7.932887</td>\n",
       "      <td>-86.365179</td>\n",
       "      <td>0.144345</td>\n",
       "    </tr>\n",
       "    <tr>\n",
       "      <th>2016-01-31</th>\n",
       "      <td>5.800744</td>\n",
       "      <td>5.415848</td>\n",
       "      <td>9.647917</td>\n",
       "      <td>101.710863</td>\n",
       "      <td>1.348185</td>\n",
       "      <td>27.249702</td>\n",
       "      <td>42.565372</td>\n",
       "      <td>10.043155</td>\n",
       "      <td>0.0</td>\n",
       "      <td>3.464286</td>\n",
       "      <td>1.347537</td>\n",
       "      <td>7.981250</td>\n",
       "      <td>-88.346577</td>\n",
       "      <td>0.116071</td>\n",
       "    </tr>\n",
       "    <tr>\n",
       "      <th>2016-02-14</th>\n",
       "      <td>5.863684</td>\n",
       "      <td>2.587474</td>\n",
       "      <td>9.827895</td>\n",
       "      <td>98.336316</td>\n",
       "      <td>1.382632</td>\n",
       "      <td>26.247632</td>\n",
       "      <td>41.268974</td>\n",
       "      <td>8.028158</td>\n",
       "      <td>0.0</td>\n",
       "      <td>4.028947</td>\n",
       "      <td>1.382226</td>\n",
       "      <td>7.972105</td>\n",
       "      <td>-88.031842</td>\n",
       "      <td>0.731579</td>\n",
       "    </tr>\n",
       "    <tr>\n",
       "      <th>2016-02-21</th>\n",
       "      <td>5.809285</td>\n",
       "      <td>8.473516</td>\n",
       "      <td>9.694673</td>\n",
       "      <td>99.917504</td>\n",
       "      <td>1.242055</td>\n",
       "      <td>24.676408</td>\n",
       "      <td>38.926667</td>\n",
       "      <td>9.791020</td>\n",
       "      <td>0.0</td>\n",
       "      <td>9.695586</td>\n",
       "      <td>1.241556</td>\n",
       "      <td>7.979300</td>\n",
       "      <td>-80.397869</td>\n",
       "      <td>1.000000</td>\n",
       "    </tr>\n",
       "    <tr>\n",
       "      <th>2016-02-28</th>\n",
       "      <td>5.800000</td>\n",
       "      <td>2.949940</td>\n",
       "      <td>9.296875</td>\n",
       "      <td>98.643601</td>\n",
       "      <td>1.173512</td>\n",
       "      <td>21.732589</td>\n",
       "      <td>34.517991</td>\n",
       "      <td>11.939435</td>\n",
       "      <td>0.0</td>\n",
       "      <td>11.553571</td>\n",
       "      <td>1.172927</td>\n",
       "      <td>8.025893</td>\n",
       "      <td>-77.784673</td>\n",
       "      <td>1.000000</td>\n",
       "    </tr>\n",
       "    <tr>\n",
       "      <th>2016-03-06</th>\n",
       "      <td>5.800000</td>\n",
       "      <td>5.355982</td>\n",
       "      <td>9.440181</td>\n",
       "      <td>100.432628</td>\n",
       "      <td>1.181918</td>\n",
       "      <td>20.218127</td>\n",
       "      <td>32.211737</td>\n",
       "      <td>12.468278</td>\n",
       "      <td>0.0</td>\n",
       "      <td>9.131420</td>\n",
       "      <td>1.181615</td>\n",
       "      <td>8.093202</td>\n",
       "      <td>-81.207704</td>\n",
       "      <td>1.000000</td>\n",
       "    </tr>\n",
       "    <tr>\n",
       "      <th>2016-03-13</th>\n",
       "      <td>5.800000</td>\n",
       "      <td>4.735169</td>\n",
       "      <td>9.135955</td>\n",
       "      <td>103.374157</td>\n",
       "      <td>1.348427</td>\n",
       "      <td>27.184831</td>\n",
       "      <td>42.300449</td>\n",
       "      <td>13.309551</td>\n",
       "      <td>0.0</td>\n",
       "      <td>7.151685</td>\n",
       "      <td>1.347708</td>\n",
       "      <td>8.115169</td>\n",
       "      <td>-83.852247</td>\n",
       "      <td>1.000000</td>\n",
       "    </tr>\n",
       "  </tbody>\n",
       "</table>\n",
       "</div>"
      ],
      "text/plain": [
       "             Battery  ChlFluor    DO_mgl      DO_pct     Depth        Sal  \\\n",
       "DateTime                                                                    \n",
       "2016-01-17  5.800000  3.752407  8.811111   94.530093  1.076620  21.965278   \n",
       "2016-01-24  5.802083  3.223676  9.369048   95.407143  1.200685  26.870685   \n",
       "2016-01-31  5.800744  5.415848  9.647917  101.710863  1.348185  27.249702   \n",
       "2016-02-14  5.863684  2.587474  9.827895   98.336316  1.382632  26.247632   \n",
       "2016-02-21  5.809285  8.473516  9.694673   99.917504  1.242055  24.676408   \n",
       "2016-02-28  5.800000  2.949940  9.296875   98.643601  1.173512  21.732589   \n",
       "2016-03-06  5.800000  5.355982  9.440181  100.432628  1.181918  20.218127   \n",
       "2016-03-13  5.800000  4.735169  9.135955  103.374157  1.348427  27.184831   \n",
       "\n",
       "               SpCond       Temp  Time(Fract.Sec)       Turb  VertPosm  \\\n",
       "DateTime                                                                 \n",
       "2016-01-17  34.833519  12.360185              0.0   7.574074  1.075898   \n",
       "2016-01-24  42.130298   8.629613              0.0   5.690476  1.200354   \n",
       "2016-01-31  42.565372  10.043155              0.0   3.464286  1.347537   \n",
       "2016-02-14  41.268974   8.028158              0.0   4.028947  1.382226   \n",
       "2016-02-21  38.926667   9.791020              0.0   9.695586  1.241556   \n",
       "2016-02-28  34.517991  11.939435              0.0  11.553571  1.172927   \n",
       "2016-03-06  32.211737  12.468278              0.0   9.131420  1.181615   \n",
       "2016-03-13  42.300449  13.309551              0.0   7.151685  1.347708   \n",
       "\n",
       "                  pH       pHmV  Huricane  \n",
       "DateTime                                   \n",
       "2016-01-17  7.855556 -82.286574  0.166667  \n",
       "2016-01-24  7.932887 -86.365179  0.144345  \n",
       "2016-01-31  7.981250 -88.346577  0.116071  \n",
       "2016-02-14  7.972105 -88.031842  0.731579  \n",
       "2016-02-21  7.979300 -80.397869  1.000000  \n",
       "2016-02-28  8.025893 -77.784673  1.000000  \n",
       "2016-03-06  8.093202 -81.207704  1.000000  \n",
       "2016-03-13  8.115169 -83.852247  1.000000  "
      ]
     },
     "execution_count": 95,
     "metadata": {},
     "output_type": "execute_result"
    }
   ],
   "source": [
    "sampleData.dropna();"
   ]
  },
  {
   "cell_type": "code",
   "execution_count": 171,
   "metadata": {
    "hidden": true
   },
   "outputs": [],
   "source": [
    "def fillData(df, alist, n=1000):\n",
    "    for i in range(n):\n",
    "        df2 = df.resample('W').mean()\n",
    "        df2.dropna(inplace=True)\n",
    "        df = pd.concat([df, df2])\n",
    "    alist.append(df)\n",
    "        \n",
    "    return alist"
   ]
  },
  {
   "cell_type": "code",
   "execution_count": 178,
   "metadata": {
    "hidden": true,
    "scrolled": false
   },
   "outputs": [],
   "source": [
    "concats = []\n",
    "fillData(newData, concats);"
   ]
  },
  {
   "cell_type": "code",
   "execution_count": 143,
   "metadata": {
    "hidden": true
   },
   "outputs": [
    {
     "name": "stdout",
     "output_type": "stream",
     "text": [
      "1\n"
     ]
    }
   ],
   "source": [
    "print(len(concats))"
   ]
  },
  {
   "cell_type": "code",
   "execution_count": 179,
   "metadata": {
    "hidden": true
   },
   "outputs": [],
   "source": [
    "newData = concats[-1]"
   ]
  },
  {
   "cell_type": "code",
   "execution_count": 180,
   "metadata": {
    "hidden": true
   },
   "outputs": [
    {
     "data": {
      "text/plain": [
       "(36109, 14)"
      ]
     },
     "execution_count": 180,
     "metadata": {},
     "output_type": "execute_result"
    }
   ],
   "source": [
    "newData.shape # I have looped over my function a few times to pad my data - Now i will need to clean the Huricane column"
   ]
  },
  {
   "cell_type": "code",
   "execution_count": 181,
   "metadata": {
    "hidden": true,
    "scrolled": true
   },
   "outputs": [
    {
     "data": {
      "text/html": [
       "<div>\n",
       "<style scoped>\n",
       "    .dataframe tbody tr th:only-of-type {\n",
       "        vertical-align: middle;\n",
       "    }\n",
       "\n",
       "    .dataframe tbody tr th {\n",
       "        vertical-align: top;\n",
       "    }\n",
       "\n",
       "    .dataframe thead th {\n",
       "        text-align: right;\n",
       "    }\n",
       "</style>\n",
       "<table border=\"1\" class=\"dataframe\">\n",
       "  <thead>\n",
       "    <tr style=\"text-align: right;\">\n",
       "      <th></th>\n",
       "      <th>Battery</th>\n",
       "      <th>ChlFluor</th>\n",
       "      <th>DO_mgl</th>\n",
       "      <th>DO_pct</th>\n",
       "      <th>Depth</th>\n",
       "      <th>Sal</th>\n",
       "      <th>SpCond</th>\n",
       "      <th>Temp</th>\n",
       "      <th>Time(Fract.Sec)</th>\n",
       "      <th>Turb</th>\n",
       "      <th>VertPosm</th>\n",
       "      <th>pH</th>\n",
       "      <th>pHmV</th>\n",
       "      <th>Huricane</th>\n",
       "    </tr>\n",
       "    <tr>\n",
       "      <th>DateTime</th>\n",
       "      <th></th>\n",
       "      <th></th>\n",
       "      <th></th>\n",
       "      <th></th>\n",
       "      <th></th>\n",
       "      <th></th>\n",
       "      <th></th>\n",
       "      <th></th>\n",
       "      <th></th>\n",
       "      <th></th>\n",
       "      <th></th>\n",
       "      <th></th>\n",
       "      <th></th>\n",
       "      <th></th>\n",
       "    </tr>\n",
       "  </thead>\n",
       "  <tbody>\n",
       "    <tr>\n",
       "      <th>2016-01-15 18:00:00</th>\n",
       "      <td>5.8</td>\n",
       "      <td>2.81</td>\n",
       "      <td>8.3</td>\n",
       "      <td>96.5</td>\n",
       "      <td>1.91</td>\n",
       "      <td>33.5</td>\n",
       "      <td>51.05</td>\n",
       "      <td>12.9</td>\n",
       "      <td>0.0</td>\n",
       "      <td>2.0</td>\n",
       "      <td>1.904</td>\n",
       "      <td>8.0</td>\n",
       "      <td>-88.2</td>\n",
       "      <td>0.0</td>\n",
       "    </tr>\n",
       "    <tr>\n",
       "      <th>2016-01-15 18:15:00</th>\n",
       "      <td>5.8</td>\n",
       "      <td>2.79</td>\n",
       "      <td>8.5</td>\n",
       "      <td>97.0</td>\n",
       "      <td>1.85</td>\n",
       "      <td>32.5</td>\n",
       "      <td>49.80</td>\n",
       "      <td>12.3</td>\n",
       "      <td>0.0</td>\n",
       "      <td>2.0</td>\n",
       "      <td>1.852</td>\n",
       "      <td>8.0</td>\n",
       "      <td>-89.3</td>\n",
       "      <td>0.0</td>\n",
       "    </tr>\n",
       "    <tr>\n",
       "      <th>2016-01-15 18:30:00</th>\n",
       "      <td>5.8</td>\n",
       "      <td>2.16</td>\n",
       "      <td>8.5</td>\n",
       "      <td>96.7</td>\n",
       "      <td>1.79</td>\n",
       "      <td>31.7</td>\n",
       "      <td>48.69</td>\n",
       "      <td>12.0</td>\n",
       "      <td>0.0</td>\n",
       "      <td>2.0</td>\n",
       "      <td>1.787</td>\n",
       "      <td>8.0</td>\n",
       "      <td>-89.2</td>\n",
       "      <td>0.0</td>\n",
       "    </tr>\n",
       "    <tr>\n",
       "      <th>2016-01-15 18:45:00</th>\n",
       "      <td>5.8</td>\n",
       "      <td>2.23</td>\n",
       "      <td>8.6</td>\n",
       "      <td>95.9</td>\n",
       "      <td>1.73</td>\n",
       "      <td>30.1</td>\n",
       "      <td>46.42</td>\n",
       "      <td>11.7</td>\n",
       "      <td>0.0</td>\n",
       "      <td>2.0</td>\n",
       "      <td>1.732</td>\n",
       "      <td>8.0</td>\n",
       "      <td>-88.9</td>\n",
       "      <td>0.0</td>\n",
       "    </tr>\n",
       "    <tr>\n",
       "      <th>2016-01-15 19:00:00</th>\n",
       "      <td>5.8</td>\n",
       "      <td>2.68</td>\n",
       "      <td>8.8</td>\n",
       "      <td>96.2</td>\n",
       "      <td>1.68</td>\n",
       "      <td>28.4</td>\n",
       "      <td>44.05</td>\n",
       "      <td>11.6</td>\n",
       "      <td>0.0</td>\n",
       "      <td>3.0</td>\n",
       "      <td>1.674</td>\n",
       "      <td>8.0</td>\n",
       "      <td>-88.5</td>\n",
       "      <td>0.0</td>\n",
       "    </tr>\n",
       "  </tbody>\n",
       "</table>\n",
       "</div>"
      ],
      "text/plain": [
       "                     Battery  ChlFluor  DO_mgl  DO_pct  Depth   Sal  SpCond  \\\n",
       "DateTime                                                                      \n",
       "2016-01-15 18:00:00      5.8      2.81     8.3    96.5   1.91  33.5   51.05   \n",
       "2016-01-15 18:15:00      5.8      2.79     8.5    97.0   1.85  32.5   49.80   \n",
       "2016-01-15 18:30:00      5.8      2.16     8.5    96.7   1.79  31.7   48.69   \n",
       "2016-01-15 18:45:00      5.8      2.23     8.6    95.9   1.73  30.1   46.42   \n",
       "2016-01-15 19:00:00      5.8      2.68     8.8    96.2   1.68  28.4   44.05   \n",
       "\n",
       "                     Temp  Time(Fract.Sec)  Turb  VertPosm   pH  pHmV  \\\n",
       "DateTime                                                                \n",
       "2016-01-15 18:00:00  12.9              0.0   2.0     1.904  8.0 -88.2   \n",
       "2016-01-15 18:15:00  12.3              0.0   2.0     1.852  8.0 -89.3   \n",
       "2016-01-15 18:30:00  12.0              0.0   2.0     1.787  8.0 -89.2   \n",
       "2016-01-15 18:45:00  11.7              0.0   2.0     1.732  8.0 -88.9   \n",
       "2016-01-15 19:00:00  11.6              0.0   3.0     1.674  8.0 -88.5   \n",
       "\n",
       "                     Huricane  \n",
       "DateTime                       \n",
       "2016-01-15 18:00:00       0.0  \n",
       "2016-01-15 18:15:00       0.0  \n",
       "2016-01-15 18:30:00       0.0  \n",
       "2016-01-15 18:45:00       0.0  \n",
       "2016-01-15 19:00:00       0.0  "
      ]
     },
     "execution_count": 181,
     "metadata": {},
     "output_type": "execute_result"
    }
   ],
   "source": [
    "newData.head()"
   ]
  },
  {
   "cell_type": "code",
   "execution_count": 183,
   "metadata": {
    "hidden": true
   },
   "outputs": [],
   "source": [
    "newData.loc[newData['Huricane'] < 1, 'Huricane'] = 0"
   ]
  },
  {
   "cell_type": "code",
   "execution_count": 184,
   "metadata": {
    "hidden": true
   },
   "outputs": [
    {
     "data": {
      "text/plain": [
       "18658.0"
      ]
     },
     "execution_count": 184,
     "metadata": {},
     "output_type": "execute_result"
    }
   ],
   "source": [
    "newData.Huricane.sum()"
   ]
  },
  {
   "cell_type": "markdown",
   "metadata": {},
   "source": [
    "# I have a variety of dataframes to run based on Atlantic readings"
   ]
  },
  {
   "cell_type": "code",
   "execution_count": 216,
   "metadata": {},
   "outputs": [],
   "source": [
    "dfs = [newData, feats_vertZero, feats_filled, feats_sparse, feats_Zeros, sBest]"
   ]
  },
  {
   "cell_type": "code",
   "execution_count": null,
   "metadata": {},
   "outputs": [],
   "source": []
  }
 ],
 "metadata": {
  "hide_input": false,
  "kernelspec": {
   "display_name": "Python 3",
   "language": "python",
   "name": "python3"
  },
  "language_info": {
   "codemirror_mode": {
    "name": "ipython",
    "version": 3
   },
   "file_extension": ".py",
   "mimetype": "text/x-python",
   "name": "python",
   "nbconvert_exporter": "python",
   "pygments_lexer": "ipython3",
   "version": "3.6.8"
  },
  "toc": {
   "base_numbering": 1,
   "nav_menu": {},
   "number_sections": true,
   "sideBar": true,
   "skip_h1_title": false,
   "title_cell": "Table of Contents",
   "title_sidebar": "Contents",
   "toc_cell": false,
   "toc_position": {},
   "toc_section_display": true,
   "toc_window_display": false
  },
  "varInspector": {
   "cols": {
    "lenName": 16,
    "lenType": 16,
    "lenVar": 40
   },
   "kernels_config": {
    "python": {
     "delete_cmd_postfix": "",
     "delete_cmd_prefix": "del ",
     "library": "var_list.py",
     "varRefreshCmd": "print(var_dic_list())"
    },
    "r": {
     "delete_cmd_postfix": ") ",
     "delete_cmd_prefix": "rm(",
     "library": "var_list.r",
     "varRefreshCmd": "cat(var_dic_list()) "
    }
   },
   "types_to_exclude": [
    "module",
    "function",
    "builtin_function_or_method",
    "instance",
    "_Feature"
   ],
   "window_display": false
  }
 },
 "nbformat": 4,
 "nbformat_minor": 2
}
